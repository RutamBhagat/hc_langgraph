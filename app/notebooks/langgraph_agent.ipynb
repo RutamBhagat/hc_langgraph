{
 "cells": [
  {
   "cell_type": "code",
   "execution_count": 1,
   "metadata": {},
   "outputs": [],
   "source": [
    "from  dotenv import load_dotenv, find_dotenv\n",
    "\n",
    "_ = load_dotenv(find_dotenv())"
   ]
  },
  {
   "cell_type": "code",
   "execution_count": 2,
   "metadata": {},
   "outputs": [],
   "source": [
    "import operator\n",
    "from typing import Annotated, TypedDict, List\n",
    "from langchain_core.messages import AnyMessage, HumanMessage, SystemMessage, ToolMessage\n",
    "from langchain_openai import ChatOpenAI\n",
    "from langgraph.graph import StateGraph, END\n",
    "from langchain_community.tools.tavily_search import TavilySearchResults"
   ]
  },
  {
   "cell_type": "code",
   "execution_count": 3,
   "metadata": {},
   "outputs": [
    {
     "name": "stdout",
     "output_type": "stream",
     "text": [
      "<class 'langchain_community.tools.tavily_search.tool.TavilySearchResults'>\n",
      "tavily_search_results_json\n"
     ]
    }
   ],
   "source": [
    "tool = TavilySearchResults(max_results=2)\n",
    "print(type(tool))\n",
    "print(tool.name)"
   ]
  },
  {
   "cell_type": "code",
   "execution_count": 4,
   "metadata": {},
   "outputs": [],
   "source": [
    "class AgentState(TypedDict):\n",
    "    messages: Annotated[List[AnyMessage], operator.add]"
   ]
  },
  {
   "cell_type": "code",
   "execution_count": 15,
   "metadata": {},
   "outputs": [],
   "source": [
    "class Agent:\n",
    "    def __init__(self, model, tools, system=\"\"):\n",
    "        self.system = system\n",
    "        graph = StateGraph(AgentState)\n",
    "        graph.add_node(\"llm\", self.call_openai)\n",
    "        graph.add_node(\"action\", self.take_action)\n",
    "        graph.add_conditional_edges(\"llm\", self.exists_action, path_map={\n",
    "            True: \"action\", False: END\n",
    "        })\n",
    "        graph.add_edge(\"action\", \"llm\")\n",
    "        graph.set_entry_point(\"llm\")\n",
    "        self.graph = graph.compile()\n",
    "        self.tools = {t.name: t for t in tools}\n",
    "        self.model = model.bind_tools(tools)\n",
    "\n",
    "    def call_openai(self, state: AgentState):\n",
    "        messages = state[\"messages\"]\n",
    "        if self.system:\n",
    "            messages = [SystemMessage(content=self.system)] + messages\n",
    "        message = self.model.invoke(messages)\n",
    "        return {\"messages\": [message]} \n",
    "\n",
    "    def take_action(self, state: AgentState):\n",
    "        tool_calls = state[\"messages\"][-1].tool_calls\n",
    "        results = []\n",
    "        for t in tool_calls:\n",
    "            print(f\"Calling: {t}\")\n",
    "            result = self.tools[t[\"name\"]].invoke(t[\"args\"])\n",
    "            results.append(\n",
    "                ToolMessage(tool_call_id=t[\"id\"], name=t[\"name\"], content=str(result))\n",
    "            )\n",
    "        print(\"Back to the model!!!\")\n",
    "        return {\"messages\": results}\n",
    "\n",
    "    def exists_action(self, state: AgentState):\n",
    "        result = state[\"messages\"][-1]\n",
    "        return len(result.tool_calls) > 0"
   ]
  },
  {
   "cell_type": "code",
   "execution_count": 16,
   "metadata": {},
   "outputs": [],
   "source": [
    "prompt = \"\"\"You are a smart research assistant. Use the search engine to look up information. \\\n",
    "You are allowed to make multiple calls (either together or in sequence). \\\n",
    "Only look up information when you are sure of what you want. \\\n",
    "If you need to look up some information before asking a follow up question, you are allowed to do that!\n",
    "\"\"\"\n",
    "model = ChatOpenAI(model=\"gpt-4o\")\n",
    "abot = Agent(model, [tool], system=prompt)"
   ]
  },
  {
   "cell_type": "code",
   "execution_count": 17,
   "metadata": {},
   "outputs": [
    {
     "name": "stdout",
     "output_type": "stream",
     "text": [
      "Calling: {'name': 'tavily_search_results_json', 'args': {'query': 'current weather in San Francisco'}, 'id': 'call_JYSwa4exkJSVbCLFEScM6LSK'}\n",
      "Back to the model!!!\n"
     ]
    }
   ],
   "source": [
    "messages = [HumanMessage(content=\"What is the weather in sf?\")]\n",
    "result = abot.graph.invoke({\"messages\": messages})"
   ]
  },
  {
   "cell_type": "code",
   "execution_count": 18,
   "metadata": {},
   "outputs": [
    {
     "data": {
      "text/plain": [
       "{'messages': [HumanMessage(content='What is the weather in sf?'),\n",
       "  AIMessage(content='', additional_kwargs={'tool_calls': [{'id': 'call_JYSwa4exkJSVbCLFEScM6LSK', 'function': {'arguments': '{\"query\":\"current weather in San Francisco\"}', 'name': 'tavily_search_results_json'}, 'type': 'function'}]}, response_metadata={'token_usage': {'completion_tokens': 22, 'prompt_tokens': 151, 'total_tokens': 173}, 'model_name': 'gpt-4o', 'system_fingerprint': 'fp_319be4768e', 'finish_reason': 'tool_calls', 'logprobs': None}, id='run-c5621672-89aa-4808-8fae-bdecd29fe102-0', tool_calls=[{'name': 'tavily_search_results_json', 'args': {'query': 'current weather in San Francisco'}, 'id': 'call_JYSwa4exkJSVbCLFEScM6LSK'}], usage_metadata={'input_tokens': 151, 'output_tokens': 22, 'total_tokens': 173}),\n",
       "  ToolMessage(content='[{\\'url\\': \\'https://www.weatherapi.com/\\', \\'content\\': \"{\\'location\\': {\\'name\\': \\'San Francisco\\', \\'region\\': \\'California\\', \\'country\\': \\'United States of America\\', \\'lat\\': 37.78, \\'lon\\': -122.42, \\'tz_id\\': \\'America/Los_Angeles\\', \\'localtime_epoch\\': 1717681738, \\'localtime\\': \\'2024-06-06 6:48\\'}, \\'current\\': {\\'last_updated_epoch\\': 1717681500, \\'last_updated\\': \\'2024-06-06 06:45\\', \\'temp_c\\': 9.0, \\'temp_f\\': 48.2, \\'is_day\\': 1, \\'condition\\': {\\'text\\': \\'Mist\\', \\'icon\\': \\'//cdn.weatherapi.com/weather/64x64/day/143.png\\', \\'code\\': 1030}, \\'wind_mph\\': 2.2, \\'wind_kph\\': 3.6, \\'wind_degree\\': 10, \\'wind_dir\\': \\'N\\', \\'pressure_mb\\': 1012.0, \\'pressure_in\\': 29.88, \\'precip_mm\\': 0.0, \\'precip_in\\': 0.0, \\'humidity\\': 100, \\'cloud\\': 25, \\'feelslike_c\\': 7.6, \\'feelslike_f\\': 45.6, \\'windchill_c\\': 10.9, \\'windchill_f\\': 51.6, \\'heatindex_c\\': 11.9, \\'heatindex_f\\': 53.5, \\'dewpoint_c\\': 9.7, \\'dewpoint_f\\': 49.4, \\'vis_km\\': 4.8, \\'vis_miles\\': 2.0, \\'uv\\': 4.0, \\'gust_mph\\': 9.7, \\'gust_kph\\': 15.6}}\"}, {\\'url\\': \\'https://forecast.weather.gov/zipcity.php?inputstring=San+Francisco,CA\\', \\'content\\': \\'San Francisco CA 37.77°N 122.41°W (Elev. 131 ft) Last Update: 6:59 am PDT Jun 5, 2024. Forecast Valid: 7am PDT Jun 5, 2024-6pm PDT Jun 11, 2024 . Forecast Discussion . Additional Resources. Radar & Satellite Image. Hourly Weather Forecast. ... Severe Weather ; Current Outlook Maps ; Drought ; Fire Weather ; Fronts/Precipitation Maps ; Current ...\\'}]', name='tavily_search_results_json', tool_call_id='call_JYSwa4exkJSVbCLFEScM6LSK'),\n",
       "  AIMessage(content=\"The current weather in San Francisco is as follows:\\n\\n- **Temperature**: 9.0°C (48.2°F)\\n- **Condition**: Mist\\n- **Wind**: 2.2 mph (3.6 kph) from the North\\n- **Humidity**: 100%\\n- **Visibility**: 4.8 km (2.0 miles)\\n- **Pressure**: 1012.0 mb (29.88 in)\\n- **Cloud Cover**: 25%\\n- **Feels Like**: 7.6°C (45.6°F)\\n- **UV Index**: 4 (Moderate)\\n\\n![Weather Icon](//cdn.weatherapi.com/weather/64x64/day/143.png)\\n\\nFor more detailed and continuous updates, you can visit [WeatherAPI](https://www.weatherapi.com/) or [NOAA's San Francisco Weather Page](https://forecast.weather.gov/zipcity.php?inputstring=San+Francisco,CA).\", response_metadata={'token_usage': {'completion_tokens': 204, 'prompt_tokens': 722, 'total_tokens': 926}, 'model_name': 'gpt-4o', 'system_fingerprint': 'fp_319be4768e', 'finish_reason': 'stop', 'logprobs': None}, id='run-926a7d6a-f30c-4726-8e4a-69360ea2172e-0', usage_metadata={'input_tokens': 722, 'output_tokens': 204, 'total_tokens': 926})]}"
      ]
     },
     "execution_count": 18,
     "metadata": {},
     "output_type": "execute_result"
    }
   ],
   "source": [
    "result"
   ]
  },
  {
   "cell_type": "code",
   "execution_count": 19,
   "metadata": {},
   "outputs": [
    {
     "data": {
      "text/plain": [
       "\"The current weather in San Francisco is as follows:\\n\\n- **Temperature**: 9.0°C (48.2°F)\\n- **Condition**: Mist\\n- **Wind**: 2.2 mph (3.6 kph) from the North\\n- **Humidity**: 100%\\n- **Visibility**: 4.8 km (2.0 miles)\\n- **Pressure**: 1012.0 mb (29.88 in)\\n- **Cloud Cover**: 25%\\n- **Feels Like**: 7.6°C (45.6°F)\\n- **UV Index**: 4 (Moderate)\\n\\n![Weather Icon](//cdn.weatherapi.com/weather/64x64/day/143.png)\\n\\nFor more detailed and continuous updates, you can visit [WeatherAPI](https://www.weatherapi.com/) or [NOAA's San Francisco Weather Page](https://forecast.weather.gov/zipcity.php?inputstring=San+Francisco,CA).\""
      ]
     },
     "execution_count": 19,
     "metadata": {},
     "output_type": "execute_result"
    }
   ],
   "source": [
    "result[\"messages\"][-1].content"
   ]
  },
  {
   "cell_type": "code",
   "execution_count": 20,
   "metadata": {},
   "outputs": [
    {
     "name": "stdout",
     "output_type": "stream",
     "text": [
      "Calling: {'name': 'tavily_search_results_json', 'args': {'query': 'current weather in San Francisco'}, 'id': 'call_wpoZHtbVhgYsuMszTAPlOCFY'}\n",
      "Calling: {'name': 'tavily_search_results_json', 'args': {'query': 'current weather in Los Angeles'}, 'id': 'call_pmGVqKseoIbKJr7bne1DLciV'}\n",
      "Back to the model!!!\n"
     ]
    }
   ],
   "source": [
    "messages = [HumanMessage(content=\"What is the weather in SF and LA?\")]\n",
    "result = abot.graph.invoke({\"messages\": messages})"
   ]
  },
  {
   "cell_type": "code",
   "execution_count": 23,
   "metadata": {},
   "outputs": [
    {
     "data": {
      "text/plain": [
       "'### Current Weather in San Francisco:\\n- **Temperature**: 9.0°C (48.2°F)\\n- **Condition**: Mist\\n- **Wind**: 2.2 mph (3.6 kph) from the North\\n- **Humidity**: 100%\\n- **Visibility**: 4.8 km (2.0 miles)\\n\\n### Current Weather in Los Angeles:\\n- **Temperature**: 16.7°C (62.1°F)\\n- **Condition**: Overcast\\n- **Wind**: 2.2 mph (3.6 kph) from the North\\n- **Humidity**: 96%\\n- **Visibility**: 11.0 km (6.0 miles)'"
      ]
     },
     "execution_count": 23,
     "metadata": {},
     "output_type": "execute_result"
    }
   ],
   "source": [
    "result[\"messages\"][-1].content"
   ]
  },
  {
   "cell_type": "code",
   "execution_count": 24,
   "metadata": {},
   "outputs": [
    {
     "name": "stdout",
     "output_type": "stream",
     "text": [
      "Calling: {'name': 'tavily_search_results_json', 'args': {'query': 'Super Bowl 2024 winner'}, 'id': 'call_twSVkBPVHwLRWXQJf8EzV6f8'}\n",
      "Back to the model!!!\n",
      "Calling: {'name': 'tavily_search_results_json', 'args': {'query': 'GDP of Missouri 2023'}, 'id': 'call_Ud871ZmlwyxAbUy66UMqcRnf'}\n",
      "Back to the model!!!\n"
     ]
    }
   ],
   "source": [
    "query = \"Who won the superbowl in 2024? What is the GDP of that state?\"\n",
    "messages = [HumanMessage(content=query)]\n",
    "result = abot.graph.invoke({\"messages\": messages})"
   ]
  },
  {
   "cell_type": "code",
   "execution_count": 25,
   "metadata": {},
   "outputs": [
    {
     "data": {
      "text/plain": [
       "'The Kansas City Chiefs won the Super Bowl in 2024.\\n\\nAs of the 3rd quarter of 2023, the real GDP for the state of Missouri was approximately $423.6 billion.'"
      ]
     },
     "execution_count": 25,
     "metadata": {},
     "output_type": "execute_result"
    }
   ],
   "source": [
    "result[\"messages\"][-1].content"
   ]
  }
 ],
 "metadata": {
  "kernelspec": {
   "display_name": ".venv",
   "language": "python",
   "name": "python3"
  },
  "language_info": {
   "codemirror_mode": {
    "name": "ipython",
    "version": 3
   },
   "file_extension": ".py",
   "mimetype": "text/x-python",
   "name": "python",
   "nbconvert_exporter": "python",
   "pygments_lexer": "ipython3",
   "version": "3.11.9"
  }
 },
 "nbformat": 4,
 "nbformat_minor": 2
}

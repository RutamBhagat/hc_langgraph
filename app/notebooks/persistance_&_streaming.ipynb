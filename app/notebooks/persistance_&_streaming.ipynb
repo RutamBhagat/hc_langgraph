{
 "cells": [
  {
   "cell_type": "code",
   "execution_count": 1,
   "metadata": {},
   "outputs": [],
   "source": [
    "from dotenv import load_dotenv, find_dotenv\n",
    "\n",
    "_ = load_dotenv(find_dotenv())"
   ]
  },
  {
   "cell_type": "code",
   "execution_count": 14,
   "metadata": {},
   "outputs": [],
   "source": [
    "import operator\n",
    "from typing import Annotated, TypedDict, List\n",
    "from langchain_openai import ChatOpenAI\n",
    "from langgraph.graph import StateGraph, END\n",
    "from langchain_core.messages import AnyMessage, SystemMessage, HumanMessage, ToolMessage\n",
    "from langchain_community.tools.tavily_search import TavilySearchResults"
   ]
  },
  {
   "cell_type": "code",
   "execution_count": 15,
   "metadata": {},
   "outputs": [],
   "source": [
    "tool = TavilySearchResults(max_results=2) "
   ]
  },
  {
   "cell_type": "code",
   "execution_count": 16,
   "metadata": {},
   "outputs": [],
   "source": [
    "class AgentState(TypedDict):\n",
    "    messages: Annotated[List[AnyMessage], operator.add]"
   ]
  },
  {
   "cell_type": "code",
   "execution_count": 17,
   "metadata": {},
   "outputs": [],
   "source": [
    "from langgraph.checkpoint.sqlite import SqliteSaver\n",
    "\n",
    "memory = SqliteSaver.from_conn_string(\":memory:\")"
   ]
  },
  {
   "cell_type": "code",
   "execution_count": 18,
   "metadata": {},
   "outputs": [],
   "source": [
    "class Agent:\n",
    "    def __init__(self, model, tools, checkpointer, system=\"\"):\n",
    "        self.system = system\n",
    "        graph = StateGraph(AgentState)\n",
    "        graph.add_node(\"llm\", self.call_openai)\n",
    "        graph.add_node(\"action\", self.take_action)\n",
    "        graph.add_conditional_edges(\n",
    "            \"llm\", self.exists_action, path_map={True: \"action\", False: END}\n",
    "        )\n",
    "        graph.add_edge(\"action\", \"llm\")\n",
    "        graph.set_entry_point(\"llm\")\n",
    "        self.graph = graph.compile(checkpointer=checkpointer)\n",
    "        self.tools = {t.name: t for t in tools}\n",
    "        self.model = model.bind_tools(tools)\n",
    "\n",
    "    def call_openai(self, state: AgentState):\n",
    "        messages = state[\"messages\"]\n",
    "        if self.system:\n",
    "            messages = [SystemMessage(content=self.system)] + messages\n",
    "        message = self.model.invoke(messages)\n",
    "        return {\"messages\": [message]}\n",
    "\n",
    "    def take_action(self, state: AgentState):\n",
    "        tool_calls = state[\"messages\"][-1].tool_calls\n",
    "        results = []\n",
    "        for t in tool_calls:\n",
    "            print(f\"Calling: {t}\")\n",
    "            result = self.tools[t[\"name\"]].invoke(t[\"args\"])\n",
    "            results.append(\n",
    "                ToolMessage(tool_call_id=t[\"id\"], name=t[\"name\"], content=str(result))\n",
    "            )\n",
    "        print(\"Back to the model!!!\")\n",
    "        return {\"messages\": results}\n",
    "\n",
    "    def exists_action(self, state: AgentState):\n",
    "        result = state[\"messages\"][-1]\n",
    "        return len(result.tool_calls) > 0"
   ]
  },
  {
   "cell_type": "code",
   "execution_count": 19,
   "metadata": {},
   "outputs": [],
   "source": [
    "prompt = \"\"\"You are a smart research assistant. Use the search engine to look up information. \\\n",
    "You are allowed to make multiple calls (either together or in sequence). \\\n",
    "Only look up information when you are sure of what you want. \\\n",
    "If you need to look up some information before asking a follow up question, you are allowed to do that!\n",
    "\"\"\"\n",
    "model = ChatOpenAI(model=\"gpt-4o\")\n",
    "abot = Agent(model, [tool], system=prompt, checkpointer=memory)"
   ]
  },
  {
   "cell_type": "code",
   "execution_count": 20,
   "metadata": {},
   "outputs": [],
   "source": [
    "messages = [HumanMessage(content=\"What is the weather in SF?\")]"
   ]
  },
  {
   "cell_type": "code",
   "execution_count": 21,
   "metadata": {},
   "outputs": [],
   "source": [
    "thread = {\"configurable\": {\"thread_id\": \"1\"}}"
   ]
  },
  {
   "cell_type": "code",
   "execution_count": 22,
   "metadata": {},
   "outputs": [
    {
     "name": "stdout",
     "output_type": "stream",
     "text": [
      "[AIMessage(content='', additional_kwargs={'tool_calls': [{'id': 'call_ehvhX2WGIwI9FXZA7VA7tcBF', 'function': {'arguments': '{\"query\":\"current weather in San Francisco\"}', 'name': 'tavily_search_results_json'}, 'type': 'function'}]}, response_metadata={'token_usage': {'completion_tokens': 22, 'prompt_tokens': 151, 'total_tokens': 173}, 'model_name': 'gpt-4o', 'system_fingerprint': 'fp_319be4768e', 'finish_reason': 'tool_calls', 'logprobs': None}, id='run-41e844b9-d88e-4cff-bce1-84c0017d1b40-0', tool_calls=[{'name': 'tavily_search_results_json', 'args': {'query': 'current weather in San Francisco'}, 'id': 'call_ehvhX2WGIwI9FXZA7VA7tcBF'}], usage_metadata={'input_tokens': 151, 'output_tokens': 22, 'total_tokens': 173})]\n",
      "Calling: {'name': 'tavily_search_results_json', 'args': {'query': 'current weather in San Francisco'}, 'id': 'call_ehvhX2WGIwI9FXZA7VA7tcBF'}\n",
      "Back to the model!!!\n",
      "[ToolMessage(content='[{\\'url\\': \\'https://www.weatherapi.com/\\', \\'content\\': \"{\\'location\\': {\\'name\\': \\'San Francisco\\', \\'region\\': \\'California\\', \\'country\\': \\'United States of America\\', \\'lat\\': 37.78, \\'lon\\': -122.42, \\'tz_id\\': \\'America/Los_Angeles\\', \\'localtime_epoch\\': 1717698087, \\'localtime\\': \\'2024-06-06 11:21\\'}, \\'current\\': {\\'last_updated_epoch\\': 1717697700, \\'last_updated\\': \\'2024-06-06 11:15\\', \\'temp_c\\': 14.0, \\'temp_f\\': 57.2, \\'is_day\\': 1, \\'condition\\': {\\'text\\': \\'Mist\\', \\'icon\\': \\'//cdn.weatherapi.com/weather/64x64/day/143.png\\', \\'code\\': 1030}, \\'wind_mph\\': 2.2, \\'wind_kph\\': 3.6, \\'wind_degree\\': 241, \\'wind_dir\\': \\'WSW\\', \\'pressure_mb\\': 1014.0, \\'pressure_in\\': 29.93, \\'precip_mm\\': 0.0, \\'precip_in\\': 0.0, \\'humidity\\': 88, \\'cloud\\': 50, \\'feelslike_c\\': 13.0, \\'feelslike_f\\': 55.4, \\'windchill_c\\': 15.2, \\'windchill_f\\': 59.3, \\'heatindex_c\\': 15.4, \\'heatindex_f\\': 59.6, \\'dewpoint_c\\': 10.4, \\'dewpoint_f\\': 50.8, \\'vis_km\\': 4.8, \\'vis_miles\\': 2.0, \\'uv\\': 5.0, \\'gust_mph\\': 10.7, \\'gust_kph\\': 17.2}}\"}, {\\'url\\': \\'https://world-weather.info/forecast/usa/san_francisco/june-2024/\\', \\'content\\': \\'Extended weather forecast in San Francisco. Hourly Week 10 days 14 days 30 days Year. Detailed ⚡ San Francisco Weather Forecast for June 2024 - day/night 🌡️ temperatures, precipitations - World-Weather.info.\\'}]', name='tavily_search_results_json', tool_call_id='call_ehvhX2WGIwI9FXZA7VA7tcBF')]\n",
      "[AIMessage(content='The current weather in San Francisco is as follows:\\n\\n- **Condition**: Mist\\n- **Temperature**: 14.0°C (57.2°F)\\n- **Feels Like**: 13.0°C (55.4°F)\\n- **Wind**: 2.2 mph (3.6 kph) from the WSW\\n- **Humidity**: 88%\\n- **Visibility**: 4.8 km (2.0 miles)\\n- **Pressure**: 1014.0 mb (29.93 in)\\n- **UV Index**: 5\\n- **Cloud Cover**: 50%\\n\\nFor more details, you can check weather sources like [WeatherAPI](https://www.weatherapi.com/) or [World Weather Info](https://world-weather.info/forecast/usa/san_francisco/june-2024/).', response_metadata={'token_usage': {'completion_tokens': 180, 'prompt_tokens': 666, 'total_tokens': 846}, 'model_name': 'gpt-4o', 'system_fingerprint': 'fp_319be4768e', 'finish_reason': 'stop', 'logprobs': None}, id='run-267041af-394b-4b6a-9bbe-56b05a1a9c82-0', usage_metadata={'input_tokens': 666, 'output_tokens': 180, 'total_tokens': 846})]\n"
     ]
    }
   ],
   "source": [
    "for event in abot.graph.stream({\"messages\": messages}, thread):\n",
    "    for v in event.values():\n",
    "        print(v[\"messages\"])"
   ]
  },
  {
   "cell_type": "code",
   "execution_count": 24,
   "metadata": {},
   "outputs": [],
   "source": [
    "messages = [HumanMessage(content=\"What about New York?\")]\n",
    "thread = {\"configurable\": {\"thread_id\": \"1\"}}"
   ]
  },
  {
   "cell_type": "code",
   "execution_count": 25,
   "metadata": {},
   "outputs": [
    {
     "name": "stdout",
     "output_type": "stream",
     "text": [
      "[AIMessage(content='', additional_kwargs={'tool_calls': [{'id': 'call_v3EpiQ6qBD81GouWQJTQXJQD', 'function': {'arguments': '{\"query\":\"current weather in New York\"}', 'name': 'tavily_search_results_json'}, 'type': 'function'}]}, response_metadata={'token_usage': {'completion_tokens': 22, 'prompt_tokens': 858, 'total_tokens': 880}, 'model_name': 'gpt-4o', 'system_fingerprint': 'fp_319be4768e', 'finish_reason': 'tool_calls', 'logprobs': None}, id='run-209a4daa-c3fd-4d7b-bd1e-4cdf4fa28895-0', tool_calls=[{'name': 'tavily_search_results_json', 'args': {'query': 'current weather in New York'}, 'id': 'call_v3EpiQ6qBD81GouWQJTQXJQD'}], usage_metadata={'input_tokens': 858, 'output_tokens': 22, 'total_tokens': 880})]\n",
      "Calling: {'name': 'tavily_search_results_json', 'args': {'query': 'current weather in New York'}, 'id': 'call_v3EpiQ6qBD81GouWQJTQXJQD'}\n",
      "Back to the model!!!\n",
      "[ToolMessage(content='[{\\'url\\': \\'https://www.weatherapi.com/\\', \\'content\\': \"{\\'location\\': {\\'name\\': \\'New York\\', \\'region\\': \\'New York\\', \\'country\\': \\'United States of America\\', \\'lat\\': 40.71, \\'lon\\': -74.01, \\'tz_id\\': \\'America/New_York\\', \\'localtime_epoch\\': 1717698501, \\'localtime\\': \\'2024-06-06 14:28\\'}, \\'current\\': {\\'last_updated_epoch\\': 1717697700, \\'last_updated\\': \\'2024-06-06 14:15\\', \\'temp_c\\': 27.2, \\'temp_f\\': 81.0, \\'is_day\\': 1, \\'condition\\': {\\'text\\': \\'Partly cloudy\\', \\'icon\\': \\'//cdn.weatherapi.com/weather/64x64/day/116.png\\', \\'code\\': 1003}, \\'wind_mph\\': 4.3, \\'wind_kph\\': 6.8, \\'wind_degree\\': 250, \\'wind_dir\\': \\'WSW\\', \\'pressure_mb\\': 999.0, \\'pressure_in\\': 29.51, \\'precip_mm\\': 0.62, \\'precip_in\\': 0.02, \\'humidity\\': 65, \\'cloud\\': 50, \\'feelslike_c\\': 29.5, \\'feelslike_f\\': 85.1, \\'windchill_c\\': 25.5, \\'windchill_f\\': 77.8, \\'heatindex_c\\': 27.4, \\'heatindex_f\\': 81.3, \\'dewpoint_c\\': 20.4, \\'dewpoint_f\\': 68.7, \\'vis_km\\': 16.0, \\'vis_miles\\': 9.0, \\'uv\\': 6.0, \\'gust_mph\\': 14.4, \\'gust_kph\\': 23.2}}\"}, {\\'url\\': \\'https://www.accuweather.com/en/us/new-york/10021/june-weather/349727\\', \\'content\\': \\'Get the monthly weather forecast for New York, NY, including daily high/low, historical averages, to help you plan ahead.\\'}]', name='tavily_search_results_json', tool_call_id='call_v3EpiQ6qBD81GouWQJTQXJQD')]\n",
      "[AIMessage(content='The current weather in New York is as follows:\\n\\n- **Condition**: Partly cloudy\\n- **Temperature**: 27.2°C (81.0°F)\\n- **Feels Like**: 29.5°C (85.1°F)\\n- **Wind**: 4.3 mph (6.8 kph) from the WSW\\n- **Humidity**: 65%\\n- **Visibility**: 16.0 km (9.0 miles)\\n- **Pressure**: 999.0 mb (29.51 in)\\n- **UV Index**: 6\\n- **Cloud Cover**: 50%\\n\\nFor more details, you can check weather sources like [WeatherAPI](https://www.weatherapi.com/) or [AccuWeather](https://www.accuweather.com/en/us/new-york/10021/june-weather/349727).', response_metadata={'token_usage': {'completion_tokens': 182, 'prompt_tokens': 1353, 'total_tokens': 1535}, 'model_name': 'gpt-4o', 'system_fingerprint': 'fp_319be4768e', 'finish_reason': 'stop', 'logprobs': None}, id='run-fc0c83e3-52db-4318-a906-2aae4af62096-0', usage_metadata={'input_tokens': 1353, 'output_tokens': 182, 'total_tokens': 1535})]\n"
     ]
    }
   ],
   "source": [
    "for event in abot.graph.stream({\"messages\": messages}, thread):\n",
    "    for v in event.values():\n",
    "        print(v[\"messages\"])"
   ]
  },
  {
   "cell_type": "code",
   "execution_count": 26,
   "metadata": {},
   "outputs": [],
   "source": [
    "messages = [HumanMessage(content=\"Which one is warmer?\")]\n",
    "thread = {\"configurable\": {\"thread_id\": \"1\"}}"
   ]
  },
  {
   "cell_type": "code",
   "execution_count": 27,
   "metadata": {},
   "outputs": [
    {
     "name": "stdout",
     "output_type": "stream",
     "text": [
      "[AIMessage(content='Currently, New York is warmer than San Francisco. Here are the temperatures:\\n\\n- **San Francisco**: 14.0°C (57.2°F)\\n- **New York**: 27.2°C (81.0°F)\\n\\nSo, New York is significantly warmer than San Francisco at the moment.', response_metadata={'token_usage': {'completion_tokens': 64, 'prompt_tokens': 1547, 'total_tokens': 1611}, 'model_name': 'gpt-4o', 'system_fingerprint': 'fp_319be4768e', 'finish_reason': 'stop', 'logprobs': None}, id='run-7f79cdc3-26ef-477c-825c-64c1a92920e1-0', usage_metadata={'input_tokens': 1547, 'output_tokens': 64, 'total_tokens': 1611})]\n"
     ]
    }
   ],
   "source": [
    "for event in abot.graph.stream({\"messages\": messages}, thread):\n",
    "    for v in event.values():\n",
    "        print(v[\"messages\"])"
   ]
  },
  {
   "cell_type": "code",
   "execution_count": 28,
   "metadata": {},
   "outputs": [
    {
     "name": "stdout",
     "output_type": "stream",
     "text": [
      "[AIMessage(content='Could you please clarify what you are referring to? Are you asking about the weather in two specific locations, the temperature of two objects, or something else?', response_metadata={'token_usage': {'completion_tokens': 32, 'prompt_tokens': 149, 'total_tokens': 181}, 'model_name': 'gpt-4o', 'system_fingerprint': 'fp_319be4768e', 'finish_reason': 'stop', 'logprobs': None}, id='run-323d4f70-4700-4c0a-8dfe-3a0455faf264-0', usage_metadata={'input_tokens': 149, 'output_tokens': 32, 'total_tokens': 181})]\n"
     ]
    }
   ],
   "source": [
    "messages = [HumanMessage(content=\"Which one is warmer?\")]\n",
    "# This wont have any data of previous conversations since the thread id is different\n",
    "thread = {\"configurable\": {\"thread_id\": \"2\"}}\n",
    "for event in abot.graph.stream({\"messages\": messages}, thread):\n",
    "    for v in event.values():\n",
    "        print(v[\"messages\"])"
   ]
  },
  {
   "cell_type": "code",
   "execution_count": 30,
   "metadata": {},
   "outputs": [],
   "source": [
    "from langgraph.checkpoint.aiosqlite import AsyncSqliteSaver\n",
    "\n",
    "memory = AsyncSqliteSaver.from_conn_string(\":memory:\") \n",
    "abot = Agent(model, [tool], system=prompt, checkpointer=memory)"
   ]
  },
  {
   "cell_type": "code",
   "execution_count": 34,
   "metadata": {},
   "outputs": [
    {
     "name": "stdout",
     "output_type": "stream",
     "text": [
      "The current weather in San Francisco is:\n",
      "- **Temperature:** 13.0°C (55.4°F)\n",
      "- **Condition:** Mist\n",
      "- **Wind:** 6.9 mph (11.2 kph) from WSW\n",
      "- **Humidity:** 94%\n",
      "- **Visibility:** 4.0 km (2.0 miles)\n",
      "\n",
      "![Weather Icon](//cdn.weatherapi.com/weather/64x64/day/143.png)\n",
      "\n",
      "Is there anything specific you are looking for?"
     ]
    }
   ],
   "source": [
    "messages = [HumanMessage(content=\"What's the weather in SF?\")]\n",
    "# This wont have any data of previous conversations since the thread id is different\n",
    "thread = {\"configurable\": {\"thread_id\": \"4\"}}\n",
    "async for event in abot.graph.astream_events(\n",
    "    {\"messages\": messages}, thread, version=\"v1\"\n",
    "):\n",
    "    kind = event[\"event\"]\n",
    "    if kind == \"on_chat_model_stream\":\n",
    "        content = event[\"data\"][\"chunk\"].content\n",
    "        if content:\n",
    "            # Empty content in the context of OpenAI means\n",
    "            # that the model is asking for a tool to be invoked\n",
    "            # So we only print non-empty content\n",
    "            print(content, end=\"\")\n",
    "            # print(content, end=\"|\")"
   ]
  },
  {
   "cell_type": "code",
   "execution_count": null,
   "metadata": {},
   "outputs": [],
   "source": []
  }
 ],
 "metadata": {
  "kernelspec": {
   "display_name": ".venv",
   "language": "python",
   "name": "python3"
  },
  "language_info": {
   "codemirror_mode": {
    "name": "ipython",
    "version": 3
   },
   "file_extension": ".py",
   "mimetype": "text/x-python",
   "name": "python",
   "nbconvert_exporter": "python",
   "pygments_lexer": "ipython3",
   "version": "3.11.9"
  }
 },
 "nbformat": 4,
 "nbformat_minor": 2
}

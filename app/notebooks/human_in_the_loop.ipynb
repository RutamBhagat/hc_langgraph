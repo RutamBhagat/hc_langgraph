{
 "cells": [
  {
   "cell_type": "code",
   "execution_count": 1,
   "metadata": {},
   "outputs": [],
   "source": [
    "from dotenv import load_dotenv\n",
    "\n",
    "_ = load_dotenv()"
   ]
  },
  {
   "cell_type": "code",
   "execution_count": 2,
   "metadata": {},
   "outputs": [],
   "source": [
    "from langgraph.graph import StateGraph, END\n",
    "from typing import TypedDict, Annotated\n",
    "import operator\n",
    "from langchain_core.messages import AnyMessage, SystemMessage, HumanMessage, ToolMessage\n",
    "from langchain_openai import ChatOpenAI\n",
    "from langchain_community.tools.tavily_search import TavilySearchResults\n",
    "from langgraph.checkpoint.sqlite import SqliteSaver\n",
    "\n",
    "memory = SqliteSaver.from_conn_string(\":memory:\")"
   ]
  },
  {
   "cell_type": "code",
   "execution_count": 3,
   "metadata": {},
   "outputs": [],
   "source": [
    "from uuid import uuid4\n",
    "from langchain_core.messages import AnyMessage, SystemMessage, HumanMessage, AIMessage\n",
    "\n",
    "\"\"\"\n",
    "In previous examples we've annotated the `messages` state key\n",
    "with the default `operator.add` or `+` reducer, which always\n",
    "appends new messages to the end of the existing messages array.\n",
    "\n",
    "Now, to support replacing existing messages, we annotate the\n",
    "`messages` key with a customer reducer function, which replaces\n",
    "messages with the same `id`, and appends them otherwise.\n",
    "\"\"\"\n",
    "\n",
    "\n",
    "def reduce_messages(\n",
    "    left: list[AnyMessage], right: list[AnyMessage]\n",
    ") -> list[AnyMessage]:\n",
    "    # assign ids to messages that don't have them\n",
    "    for message in right:\n",
    "        if not message.id:\n",
    "            message.id = str(uuid4())\n",
    "    # merge the new messages with the existing messages\n",
    "    merged = left.copy()\n",
    "    for message in right:\n",
    "        for i, existing in enumerate(merged):\n",
    "            # replace any existing messages with the same id\n",
    "            if existing.id == message.id:\n",
    "                merged[i] = message\n",
    "                break\n",
    "        else:\n",
    "            # append any new messages to the end\n",
    "            merged.append(message)\n",
    "    return merged\n",
    "\n",
    "\n",
    "class AgentState(TypedDict):\n",
    "    messages: Annotated[list[AnyMessage], reduce_messages]"
   ]
  },
  {
   "cell_type": "code",
   "execution_count": 4,
   "metadata": {},
   "outputs": [],
   "source": [
    "tool = TavilySearchResults(max_results=2)"
   ]
  },
  {
   "cell_type": "code",
   "execution_count": 5,
   "metadata": {},
   "outputs": [],
   "source": [
    "class Agent:\n",
    "    def __init__(self, model, tools, system=\"\", checkpointer=None):\n",
    "        self.system = system\n",
    "        graph = StateGraph(AgentState)\n",
    "        graph.add_node(\"llm\", self.call_openai)\n",
    "        graph.add_node(\"action\", self.take_action)\n",
    "        graph.add_conditional_edges(\n",
    "            \"llm\", self.exists_action, {True: \"action\", False: END}\n",
    "        )\n",
    "        graph.add_edge(\"action\", \"llm\")\n",
    "        graph.set_entry_point(\"llm\")\n",
    "        self.graph = graph.compile(\n",
    "            checkpointer=checkpointer, interrupt_before=[\"action\"]\n",
    "        )\n",
    "        self.tools = {t.name: t for t in tools}\n",
    "        self.model = model.bind_tools(tools)\n",
    "\n",
    "    def call_openai(self, state: AgentState):\n",
    "        messages = state[\"messages\"]\n",
    "        if self.system:\n",
    "            messages = [SystemMessage(content=self.system)] + messages\n",
    "        message = self.model.invoke(messages)\n",
    "        return {\"messages\": [message]}\n",
    "\n",
    "    def exists_action(self, state: AgentState):\n",
    "        print(state)\n",
    "        result = state[\"messages\"][-1]\n",
    "        return len(result.tool_calls) > 0\n",
    "\n",
    "    def take_action(self, state: AgentState):\n",
    "        tool_calls = state[\"messages\"][-1].tool_calls\n",
    "        results = []\n",
    "        for t in tool_calls:\n",
    "            print(f\"Calling: {t}\")\n",
    "            result = self.tools[t[\"name\"]].invoke(t[\"args\"])\n",
    "            results.append(\n",
    "                ToolMessage(tool_call_id=t[\"id\"], name=t[\"name\"], content=str(result))\n",
    "            )\n",
    "        print(\"Back to the model!\")\n",
    "        return {\"messages\": results}"
   ]
  },
  {
   "cell_type": "code",
   "execution_count": 6,
   "metadata": {},
   "outputs": [],
   "source": [
    "prompt = \"\"\"You are a smart research assistant. Use the search engine to look up information. \\\n",
    "You are allowed to make multiple calls (either together or in sequence). \\\n",
    "Only look up information when you are sure of what you want. \\\n",
    "If you need to look up some information before asking a follow up question, you are allowed to do that!\n",
    "\"\"\"\n",
    "model = ChatOpenAI(model=\"gpt-3.5-turbo\")\n",
    "abot = Agent(model, [tool], system=prompt, checkpointer=memory)"
   ]
  },
  {
   "cell_type": "code",
   "execution_count": 7,
   "metadata": {},
   "outputs": [
    {
     "name": "stdout",
     "output_type": "stream",
     "text": [
      "{'messages': [HumanMessage(content='Whats the weather in SF?', id='113ab5c6-4213-43dd-8f06-4f0c41654c44'), AIMessage(content='', additional_kwargs={'tool_calls': [{'id': 'call_Cijx4TZum36wjgv87J0XykZn', 'function': {'arguments': '{\"query\":\"weather in San Francisco\"}', 'name': 'tavily_search_results_json'}, 'type': 'function'}]}, response_metadata={'token_usage': {'completion_tokens': 21, 'prompt_tokens': 152, 'total_tokens': 173}, 'model_name': 'gpt-3.5-turbo', 'system_fingerprint': None, 'finish_reason': 'tool_calls', 'logprobs': None}, id='run-69b94e9b-e82b-4aed-9727-9ca04fdf550d-0', tool_calls=[{'name': 'tavily_search_results_json', 'args': {'query': 'weather in San Francisco'}, 'id': 'call_Cijx4TZum36wjgv87J0XykZn'}], usage_metadata={'input_tokens': 152, 'output_tokens': 21, 'total_tokens': 173})]}\n",
      "{'messages': [AIMessage(content='', additional_kwargs={'tool_calls': [{'id': 'call_Cijx4TZum36wjgv87J0XykZn', 'function': {'arguments': '{\"query\":\"weather in San Francisco\"}', 'name': 'tavily_search_results_json'}, 'type': 'function'}]}, response_metadata={'token_usage': {'completion_tokens': 21, 'prompt_tokens': 152, 'total_tokens': 173}, 'model_name': 'gpt-3.5-turbo', 'system_fingerprint': None, 'finish_reason': 'tool_calls', 'logprobs': None}, id='run-69b94e9b-e82b-4aed-9727-9ca04fdf550d-0', tool_calls=[{'name': 'tavily_search_results_json', 'args': {'query': 'weather in San Francisco'}, 'id': 'call_Cijx4TZum36wjgv87J0XykZn'}], usage_metadata={'input_tokens': 152, 'output_tokens': 21, 'total_tokens': 173})]}\n"
     ]
    }
   ],
   "source": [
    "messages = [HumanMessage(content=\"Whats the weather in SF?\")]\n",
    "thread = {\"configurable\": {\"thread_id\": \"1\"}}\n",
    "for event in abot.graph.stream({\"messages\": messages}, thread):\n",
    "    for v in event.values():\n",
    "        print(v)"
   ]
  },
  {
   "cell_type": "code",
   "execution_count": 8,
   "metadata": {},
   "outputs": [
    {
     "data": {
      "text/plain": [
       "StateSnapshot(values={'messages': [HumanMessage(content='Whats the weather in SF?', id='113ab5c6-4213-43dd-8f06-4f0c41654c44'), AIMessage(content='', additional_kwargs={'tool_calls': [{'id': 'call_Cijx4TZum36wjgv87J0XykZn', 'function': {'arguments': '{\"query\":\"weather in San Francisco\"}', 'name': 'tavily_search_results_json'}, 'type': 'function'}]}, response_metadata={'token_usage': {'completion_tokens': 21, 'prompt_tokens': 152, 'total_tokens': 173}, 'model_name': 'gpt-3.5-turbo', 'system_fingerprint': None, 'finish_reason': 'tool_calls', 'logprobs': None}, id='run-69b94e9b-e82b-4aed-9727-9ca04fdf550d-0', tool_calls=[{'name': 'tavily_search_results_json', 'args': {'query': 'weather in San Francisco'}, 'id': 'call_Cijx4TZum36wjgv87J0XykZn'}], usage_metadata={'input_tokens': 152, 'output_tokens': 21, 'total_tokens': 173})]}, next=('action',), config={'configurable': {'thread_id': '1', 'thread_ts': '1ef2442a-c1be-611f-8001-df5197e1fd50'}}, metadata={'source': 'loop', 'step': 1, 'writes': {'llm': {'messages': [AIMessage(content='', additional_kwargs={'tool_calls': [{'id': 'call_Cijx4TZum36wjgv87J0XykZn', 'function': {'arguments': '{\"query\":\"weather in San Francisco\"}', 'name': 'tavily_search_results_json'}, 'type': 'function'}]}, response_metadata={'token_usage': {'completion_tokens': 21, 'prompt_tokens': 152, 'total_tokens': 173}, 'model_name': 'gpt-3.5-turbo', 'system_fingerprint': None, 'finish_reason': 'tool_calls', 'logprobs': None}, id='run-69b94e9b-e82b-4aed-9727-9ca04fdf550d-0', tool_calls=[{'name': 'tavily_search_results_json', 'args': {'query': 'weather in San Francisco'}, 'id': 'call_Cijx4TZum36wjgv87J0XykZn'}], usage_metadata={'input_tokens': 152, 'output_tokens': 21, 'total_tokens': 173})]}}}, created_at='2024-06-06T20:23:44.572425+00:00', parent_config={'configurable': {'thread_id': '1', 'thread_ts': '1ef2442a-b29d-67da-8000-f892e31c8f52'}})"
      ]
     },
     "execution_count": 8,
     "metadata": {},
     "output_type": "execute_result"
    }
   ],
   "source": [
    "abot.graph.get_state(thread)"
   ]
  },
  {
   "cell_type": "code",
   "execution_count": 9,
   "metadata": {},
   "outputs": [
    {
     "data": {
      "text/plain": [
       "('action',)"
      ]
     },
     "execution_count": 9,
     "metadata": {},
     "output_type": "execute_result"
    }
   ],
   "source": [
    "abot.graph.get_state(thread).next"
   ]
  },
  {
   "cell_type": "code",
   "execution_count": 10,
   "metadata": {},
   "outputs": [
    {
     "name": "stdout",
     "output_type": "stream",
     "text": [
      "Calling: {'name': 'tavily_search_results_json', 'args': {'query': 'weather in San Francisco'}, 'id': 'call_Cijx4TZum36wjgv87J0XykZn'}\n",
      "Back to the model!\n",
      "{'messages': [ToolMessage(content='[{\\'url\\': \\'https://www.weatherapi.com/\\', \\'content\\': \"{\\'location\\': {\\'name\\': \\'San Francisco\\', \\'region\\': \\'California\\', \\'country\\': \\'United States of America\\', \\'lat\\': 37.78, \\'lon\\': -122.42, \\'tz_id\\': \\'America/Los_Angeles\\', \\'localtime_epoch\\': 1717705142, \\'localtime\\': \\'2024-06-06 13:19\\'}, \\'current\\': {\\'last_updated_epoch\\': 1717704900, \\'last_updated\\': \\'2024-06-06 13:15\\', \\'temp_c\\': 18.9, \\'temp_f\\': 66.0, \\'is_day\\': 1, \\'condition\\': {\\'text\\': \\'Sunny\\', \\'icon\\': \\'//cdn.weatherapi.com/weather/64x64/day/113.png\\', \\'code\\': 1000}, \\'wind_mph\\': 12.5, \\'wind_kph\\': 20.2, \\'wind_degree\\': 290, \\'wind_dir\\': \\'WNW\\', \\'pressure_mb\\': 1012.0, \\'pressure_in\\': 29.88, \\'precip_mm\\': 0.0, \\'precip_in\\': 0.0, \\'humidity\\': 63, \\'cloud\\': 0, \\'feelslike_c\\': 18.9, \\'feelslike_f\\': 66.0, \\'windchill_c\\': 15.7, \\'windchill_f\\': 60.3, \\'heatindex_c\\': 15.8, \\'heatindex_f\\': 60.4, \\'dewpoint_c\\': 10.7, \\'dewpoint_f\\': 51.2, \\'vis_km\\': 16.0, \\'vis_miles\\': 9.0, \\'uv\\': 5.0, \\'gust_mph\\': 14.7, \\'gust_kph\\': 23.6}}\"}, {\\'url\\': \\'https://world-weather.info/forecast/usa/san_francisco/june-2024/\\', \\'content\\': \\'Extended weather forecast in San Francisco. Hourly Week 10 days 14 days 30 days Year. Detailed ⚡ San Francisco Weather Forecast for June 2024 - day/night 🌡️ temperatures, precipitations - World-Weather.info.\\'}]', name='tavily_search_results_json', tool_call_id='call_Cijx4TZum36wjgv87J0XykZn')]}\n",
      "{'messages': [HumanMessage(content='Whats the weather in SF?', id='113ab5c6-4213-43dd-8f06-4f0c41654c44'), AIMessage(content='', additional_kwargs={'tool_calls': [{'id': 'call_Cijx4TZum36wjgv87J0XykZn', 'function': {'arguments': '{\"query\":\"weather in San Francisco\"}', 'name': 'tavily_search_results_json'}, 'type': 'function'}]}, response_metadata={'token_usage': {'completion_tokens': 21, 'prompt_tokens': 152, 'total_tokens': 173}, 'model_name': 'gpt-3.5-turbo', 'system_fingerprint': None, 'finish_reason': 'tool_calls', 'logprobs': None}, id='run-69b94e9b-e82b-4aed-9727-9ca04fdf550d-0', tool_calls=[{'name': 'tavily_search_results_json', 'args': {'query': 'weather in San Francisco'}, 'id': 'call_Cijx4TZum36wjgv87J0XykZn'}], usage_metadata={'input_tokens': 152, 'output_tokens': 21, 'total_tokens': 173}), ToolMessage(content='[{\\'url\\': \\'https://www.weatherapi.com/\\', \\'content\\': \"{\\'location\\': {\\'name\\': \\'San Francisco\\', \\'region\\': \\'California\\', \\'country\\': \\'United States of America\\', \\'lat\\': 37.78, \\'lon\\': -122.42, \\'tz_id\\': \\'America/Los_Angeles\\', \\'localtime_epoch\\': 1717705142, \\'localtime\\': \\'2024-06-06 13:19\\'}, \\'current\\': {\\'last_updated_epoch\\': 1717704900, \\'last_updated\\': \\'2024-06-06 13:15\\', \\'temp_c\\': 18.9, \\'temp_f\\': 66.0, \\'is_day\\': 1, \\'condition\\': {\\'text\\': \\'Sunny\\', \\'icon\\': \\'//cdn.weatherapi.com/weather/64x64/day/113.png\\', \\'code\\': 1000}, \\'wind_mph\\': 12.5, \\'wind_kph\\': 20.2, \\'wind_degree\\': 290, \\'wind_dir\\': \\'WNW\\', \\'pressure_mb\\': 1012.0, \\'pressure_in\\': 29.88, \\'precip_mm\\': 0.0, \\'precip_in\\': 0.0, \\'humidity\\': 63, \\'cloud\\': 0, \\'feelslike_c\\': 18.9, \\'feelslike_f\\': 66.0, \\'windchill_c\\': 15.7, \\'windchill_f\\': 60.3, \\'heatindex_c\\': 15.8, \\'heatindex_f\\': 60.4, \\'dewpoint_c\\': 10.7, \\'dewpoint_f\\': 51.2, \\'vis_km\\': 16.0, \\'vis_miles\\': 9.0, \\'uv\\': 5.0, \\'gust_mph\\': 14.7, \\'gust_kph\\': 23.6}}\"}, {\\'url\\': \\'https://world-weather.info/forecast/usa/san_francisco/june-2024/\\', \\'content\\': \\'Extended weather forecast in San Francisco. Hourly Week 10 days 14 days 30 days Year. Detailed ⚡ San Francisco Weather Forecast for June 2024 - day/night 🌡️ temperatures, precipitations - World-Weather.info.\\'}]', name='tavily_search_results_json', id='26af29f6-90c1-463d-8d35-ff7dc5d370a3', tool_call_id='call_Cijx4TZum36wjgv87J0XykZn'), AIMessage(content='The current weather in San Francisco is sunny with a temperature of 66.0°F (18.9°C). The wind speed is 12.5 mph (20.2 kph) coming from the west-northwest direction. The humidity is at 63%, and there is no precipitation at the moment.', response_metadata={'token_usage': {'completion_tokens': 65, 'prompt_tokens': 675, 'total_tokens': 740}, 'model_name': 'gpt-3.5-turbo', 'system_fingerprint': None, 'finish_reason': 'stop', 'logprobs': None}, id='run-d31a6e1c-9e76-4bf2-92c0-4836b4e979f9-0', usage_metadata={'input_tokens': 675, 'output_tokens': 65, 'total_tokens': 740})]}\n",
      "{'messages': [AIMessage(content='The current weather in San Francisco is sunny with a temperature of 66.0°F (18.9°C). The wind speed is 12.5 mph (20.2 kph) coming from the west-northwest direction. The humidity is at 63%, and there is no precipitation at the moment.', response_metadata={'token_usage': {'completion_tokens': 65, 'prompt_tokens': 675, 'total_tokens': 740}, 'model_name': 'gpt-3.5-turbo', 'system_fingerprint': None, 'finish_reason': 'stop', 'logprobs': None}, id='run-d31a6e1c-9e76-4bf2-92c0-4836b4e979f9-0', usage_metadata={'input_tokens': 675, 'output_tokens': 65, 'total_tokens': 740})]}\n"
     ]
    }
   ],
   "source": [
    "for event in abot.graph.stream(None, thread):\n",
    "    for v in event.values():\n",
    "        print(v)"
   ]
  },
  {
   "cell_type": "code",
   "execution_count": 11,
   "metadata": {},
   "outputs": [
    {
     "data": {
      "text/plain": [
       "StateSnapshot(values={'messages': [HumanMessage(content='Whats the weather in SF?', id='113ab5c6-4213-43dd-8f06-4f0c41654c44'), AIMessage(content='', additional_kwargs={'tool_calls': [{'id': 'call_Cijx4TZum36wjgv87J0XykZn', 'function': {'arguments': '{\"query\":\"weather in San Francisco\"}', 'name': 'tavily_search_results_json'}, 'type': 'function'}]}, response_metadata={'token_usage': {'completion_tokens': 21, 'prompt_tokens': 152, 'total_tokens': 173}, 'model_name': 'gpt-3.5-turbo', 'system_fingerprint': None, 'finish_reason': 'tool_calls', 'logprobs': None}, id='run-69b94e9b-e82b-4aed-9727-9ca04fdf550d-0', tool_calls=[{'name': 'tavily_search_results_json', 'args': {'query': 'weather in San Francisco'}, 'id': 'call_Cijx4TZum36wjgv87J0XykZn'}], usage_metadata={'input_tokens': 152, 'output_tokens': 21, 'total_tokens': 173}), ToolMessage(content='[{\\'url\\': \\'https://www.weatherapi.com/\\', \\'content\\': \"{\\'location\\': {\\'name\\': \\'San Francisco\\', \\'region\\': \\'California\\', \\'country\\': \\'United States of America\\', \\'lat\\': 37.78, \\'lon\\': -122.42, \\'tz_id\\': \\'America/Los_Angeles\\', \\'localtime_epoch\\': 1717705142, \\'localtime\\': \\'2024-06-06 13:19\\'}, \\'current\\': {\\'last_updated_epoch\\': 1717704900, \\'last_updated\\': \\'2024-06-06 13:15\\', \\'temp_c\\': 18.9, \\'temp_f\\': 66.0, \\'is_day\\': 1, \\'condition\\': {\\'text\\': \\'Sunny\\', \\'icon\\': \\'//cdn.weatherapi.com/weather/64x64/day/113.png\\', \\'code\\': 1000}, \\'wind_mph\\': 12.5, \\'wind_kph\\': 20.2, \\'wind_degree\\': 290, \\'wind_dir\\': \\'WNW\\', \\'pressure_mb\\': 1012.0, \\'pressure_in\\': 29.88, \\'precip_mm\\': 0.0, \\'precip_in\\': 0.0, \\'humidity\\': 63, \\'cloud\\': 0, \\'feelslike_c\\': 18.9, \\'feelslike_f\\': 66.0, \\'windchill_c\\': 15.7, \\'windchill_f\\': 60.3, \\'heatindex_c\\': 15.8, \\'heatindex_f\\': 60.4, \\'dewpoint_c\\': 10.7, \\'dewpoint_f\\': 51.2, \\'vis_km\\': 16.0, \\'vis_miles\\': 9.0, \\'uv\\': 5.0, \\'gust_mph\\': 14.7, \\'gust_kph\\': 23.6}}\"}, {\\'url\\': \\'https://world-weather.info/forecast/usa/san_francisco/june-2024/\\', \\'content\\': \\'Extended weather forecast in San Francisco. Hourly Week 10 days 14 days 30 days Year. Detailed ⚡ San Francisco Weather Forecast for June 2024 - day/night 🌡️ temperatures, precipitations - World-Weather.info.\\'}]', name='tavily_search_results_json', id='26af29f6-90c1-463d-8d35-ff7dc5d370a3', tool_call_id='call_Cijx4TZum36wjgv87J0XykZn'), AIMessage(content='The current weather in San Francisco is sunny with a temperature of 66.0°F (18.9°C). The wind speed is 12.5 mph (20.2 kph) coming from the west-northwest direction. The humidity is at 63%, and there is no precipitation at the moment.', response_metadata={'token_usage': {'completion_tokens': 65, 'prompt_tokens': 675, 'total_tokens': 740}, 'model_name': 'gpt-3.5-turbo', 'system_fingerprint': None, 'finish_reason': 'stop', 'logprobs': None}, id='run-d31a6e1c-9e76-4bf2-92c0-4836b4e979f9-0', usage_metadata={'input_tokens': 675, 'output_tokens': 65, 'total_tokens': 740})]}, next=(), config={'configurable': {'thread_id': '1', 'thread_ts': '1ef2442c-16ae-6ab8-8003-07ea1e054851'}}, metadata={'source': 'loop', 'step': 3, 'writes': {'llm': {'messages': [AIMessage(content='The current weather in San Francisco is sunny with a temperature of 66.0°F (18.9°C). The wind speed is 12.5 mph (20.2 kph) coming from the west-northwest direction. The humidity is at 63%, and there is no precipitation at the moment.', response_metadata={'token_usage': {'completion_tokens': 65, 'prompt_tokens': 675, 'total_tokens': 740}, 'model_name': 'gpt-3.5-turbo', 'system_fingerprint': None, 'finish_reason': 'stop', 'logprobs': None}, id='run-d31a6e1c-9e76-4bf2-92c0-4836b4e979f9-0', usage_metadata={'input_tokens': 675, 'output_tokens': 65, 'total_tokens': 740})]}}}, created_at='2024-06-06T20:24:20.322553+00:00', parent_config={'configurable': {'thread_id': '1', 'thread_ts': '1ef2442b-f131-6b83-8002-b74188d93b88'}})"
      ]
     },
     "execution_count": 11,
     "metadata": {},
     "output_type": "execute_result"
    }
   ],
   "source": [
    "abot.graph.get_state(thread)"
   ]
  },
  {
   "cell_type": "code",
   "execution_count": 12,
   "metadata": {},
   "outputs": [
    {
     "data": {
      "text/plain": [
       "()"
      ]
     },
     "execution_count": 12,
     "metadata": {},
     "output_type": "execute_result"
    }
   ],
   "source": [
    "abot.graph.get_state(thread).next"
   ]
  },
  {
   "cell_type": "code",
   "execution_count": 13,
   "metadata": {},
   "outputs": [
    {
     "name": "stdout",
     "output_type": "stream",
     "text": [
      "{'messages': [HumanMessage(content='Whats the weather in LA?', id='b96e4fb1-5207-4403-a2a8-fd5bd2f28b01'), AIMessage(content='', additional_kwargs={'tool_calls': [{'id': 'call_lftzLKmbKKl0xqSnfrgXpfDc', 'function': {'arguments': '{\"query\":\"weather in Los Angeles\"}', 'name': 'tavily_search_results_json'}, 'type': 'function'}]}, response_metadata={'token_usage': {'completion_tokens': 21, 'prompt_tokens': 152, 'total_tokens': 173}, 'model_name': 'gpt-3.5-turbo', 'system_fingerprint': None, 'finish_reason': 'tool_calls', 'logprobs': None}, id='run-cb9e4b90-b210-4b67-aca9-5930635006ac-0', tool_calls=[{'name': 'tavily_search_results_json', 'args': {'query': 'weather in Los Angeles'}, 'id': 'call_lftzLKmbKKl0xqSnfrgXpfDc'}], usage_metadata={'input_tokens': 152, 'output_tokens': 21, 'total_tokens': 173})]}\n",
      "{'messages': [AIMessage(content='', additional_kwargs={'tool_calls': [{'id': 'call_lftzLKmbKKl0xqSnfrgXpfDc', 'function': {'arguments': '{\"query\":\"weather in Los Angeles\"}', 'name': 'tavily_search_results_json'}, 'type': 'function'}]}, response_metadata={'token_usage': {'completion_tokens': 21, 'prompt_tokens': 152, 'total_tokens': 173}, 'model_name': 'gpt-3.5-turbo', 'system_fingerprint': None, 'finish_reason': 'tool_calls', 'logprobs': None}, id='run-cb9e4b90-b210-4b67-aca9-5930635006ac-0', tool_calls=[{'name': 'tavily_search_results_json', 'args': {'query': 'weather in Los Angeles'}, 'id': 'call_lftzLKmbKKl0xqSnfrgXpfDc'}], usage_metadata={'input_tokens': 152, 'output_tokens': 21, 'total_tokens': 173})]}\n",
      "\n",
      " StateSnapshot(values={'messages': [HumanMessage(content='Whats the weather in LA?', id='b96e4fb1-5207-4403-a2a8-fd5bd2f28b01'), AIMessage(content='', additional_kwargs={'tool_calls': [{'id': 'call_lftzLKmbKKl0xqSnfrgXpfDc', 'function': {'arguments': '{\"query\":\"weather in Los Angeles\"}', 'name': 'tavily_search_results_json'}, 'type': 'function'}]}, response_metadata={'token_usage': {'completion_tokens': 21, 'prompt_tokens': 152, 'total_tokens': 173}, 'model_name': 'gpt-3.5-turbo', 'system_fingerprint': None, 'finish_reason': 'tool_calls', 'logprobs': None}, id='run-cb9e4b90-b210-4b67-aca9-5930635006ac-0', tool_calls=[{'name': 'tavily_search_results_json', 'args': {'query': 'weather in Los Angeles'}, 'id': 'call_lftzLKmbKKl0xqSnfrgXpfDc'}], usage_metadata={'input_tokens': 152, 'output_tokens': 21, 'total_tokens': 173})]}, next=('action',), config={'configurable': {'thread_id': '2', 'thread_ts': '1ef2442c-3dc5-6fd1-8001-392bd56dd153'}}, metadata={'source': 'loop', 'step': 1, 'writes': {'llm': {'messages': [AIMessage(content='', additional_kwargs={'tool_calls': [{'id': 'call_lftzLKmbKKl0xqSnfrgXpfDc', 'function': {'arguments': '{\"query\":\"weather in Los Angeles\"}', 'name': 'tavily_search_results_json'}, 'type': 'function'}]}, response_metadata={'token_usage': {'completion_tokens': 21, 'prompt_tokens': 152, 'total_tokens': 173}, 'model_name': 'gpt-3.5-turbo', 'system_fingerprint': None, 'finish_reason': 'tool_calls', 'logprobs': None}, id='run-cb9e4b90-b210-4b67-aca9-5930635006ac-0', tool_calls=[{'name': 'tavily_search_results_json', 'args': {'query': 'weather in Los Angeles'}, 'id': 'call_lftzLKmbKKl0xqSnfrgXpfDc'}], usage_metadata={'input_tokens': 152, 'output_tokens': 21, 'total_tokens': 173})]}}}, created_at='2024-06-06T20:24:24.421557+00:00', parent_config={'configurable': {'thread_id': '2', 'thread_ts': '1ef2442c-2da5-6d60-8000-f88165b13680'}}) \n",
      "\n",
      "Calling: {'name': 'tavily_search_results_json', 'args': {'query': 'weather in Los Angeles'}, 'id': 'call_lftzLKmbKKl0xqSnfrgXpfDc'}\n",
      "Back to the model!\n",
      "{'messages': [ToolMessage(content='[{\\'url\\': \\'https://www.weatherapi.com/\\', \\'content\\': \"{\\'location\\': {\\'name\\': \\'Los Angeles\\', \\'region\\': \\'California\\', \\'country\\': \\'United States of America\\', \\'lat\\': 34.05, \\'lon\\': -118.24, \\'tz_id\\': \\'America/Los_Angeles\\', \\'localtime_epoch\\': 1717705265, \\'localtime\\': \\'2024-06-06 13:21\\'}, \\'current\\': {\\'last_updated_epoch\\': 1717704900, \\'last_updated\\': \\'2024-06-06 13:15\\', \\'temp_c\\': 20.0, \\'temp_f\\': 68.0, \\'is_day\\': 1, \\'condition\\': {\\'text\\': \\'Overcast\\', \\'icon\\': \\'//cdn.weatherapi.com/weather/64x64/day/122.png\\', \\'code\\': 1009}, \\'wind_mph\\': 10.5, \\'wind_kph\\': 16.9, \\'wind_degree\\': 250, \\'wind_dir\\': \\'WSW\\', \\'pressure_mb\\': 1013.0, \\'pressure_in\\': 29.92, \\'precip_mm\\': 0.0, \\'precip_in\\': 0.0, \\'humidity\\': 73, \\'cloud\\': 100, \\'feelslike_c\\': 20.0, \\'feelslike_f\\': 68.0, \\'windchill_c\\': 25.7, \\'windchill_f\\': 78.2, \\'heatindex_c\\': 26.2, \\'heatindex_f\\': 79.2, \\'dewpoint_c\\': 13.8, \\'dewpoint_f\\': 56.9, \\'vis_km\\': 16.0, \\'vis_miles\\': 9.0, \\'uv\\': 7.0, \\'gust_mph\\': 10.6, \\'gust_kph\\': 17.0}}\"}, {\\'url\\': \\'https://www.latimes.com/california/story/2024-06-06/hottest-temperatures-of-the-year-california-sets-several-daily-records-and-more-are-possible\\', \\'content\\': \\'June 5, 2024 Record-setting temperatures Palmdale in Los Angeles County set a record high for June 5, hitting 105 degrees Wednesday, two degrees above its record from 1981, according to the ...\\'}]', name='tavily_search_results_json', tool_call_id='call_lftzLKmbKKl0xqSnfrgXpfDc')]}\n",
      "{'messages': [HumanMessage(content='Whats the weather in LA?', id='b96e4fb1-5207-4403-a2a8-fd5bd2f28b01'), AIMessage(content='', additional_kwargs={'tool_calls': [{'id': 'call_lftzLKmbKKl0xqSnfrgXpfDc', 'function': {'arguments': '{\"query\":\"weather in Los Angeles\"}', 'name': 'tavily_search_results_json'}, 'type': 'function'}]}, response_metadata={'token_usage': {'completion_tokens': 21, 'prompt_tokens': 152, 'total_tokens': 173}, 'model_name': 'gpt-3.5-turbo', 'system_fingerprint': None, 'finish_reason': 'tool_calls', 'logprobs': None}, id='run-cb9e4b90-b210-4b67-aca9-5930635006ac-0', tool_calls=[{'name': 'tavily_search_results_json', 'args': {'query': 'weather in Los Angeles'}, 'id': 'call_lftzLKmbKKl0xqSnfrgXpfDc'}], usage_metadata={'input_tokens': 152, 'output_tokens': 21, 'total_tokens': 173}), ToolMessage(content='[{\\'url\\': \\'https://www.weatherapi.com/\\', \\'content\\': \"{\\'location\\': {\\'name\\': \\'Los Angeles\\', \\'region\\': \\'California\\', \\'country\\': \\'United States of America\\', \\'lat\\': 34.05, \\'lon\\': -118.24, \\'tz_id\\': \\'America/Los_Angeles\\', \\'localtime_epoch\\': 1717705265, \\'localtime\\': \\'2024-06-06 13:21\\'}, \\'current\\': {\\'last_updated_epoch\\': 1717704900, \\'last_updated\\': \\'2024-06-06 13:15\\', \\'temp_c\\': 20.0, \\'temp_f\\': 68.0, \\'is_day\\': 1, \\'condition\\': {\\'text\\': \\'Overcast\\', \\'icon\\': \\'//cdn.weatherapi.com/weather/64x64/day/122.png\\', \\'code\\': 1009}, \\'wind_mph\\': 10.5, \\'wind_kph\\': 16.9, \\'wind_degree\\': 250, \\'wind_dir\\': \\'WSW\\', \\'pressure_mb\\': 1013.0, \\'pressure_in\\': 29.92, \\'precip_mm\\': 0.0, \\'precip_in\\': 0.0, \\'humidity\\': 73, \\'cloud\\': 100, \\'feelslike_c\\': 20.0, \\'feelslike_f\\': 68.0, \\'windchill_c\\': 25.7, \\'windchill_f\\': 78.2, \\'heatindex_c\\': 26.2, \\'heatindex_f\\': 79.2, \\'dewpoint_c\\': 13.8, \\'dewpoint_f\\': 56.9, \\'vis_km\\': 16.0, \\'vis_miles\\': 9.0, \\'uv\\': 7.0, \\'gust_mph\\': 10.6, \\'gust_kph\\': 17.0}}\"}, {\\'url\\': \\'https://www.latimes.com/california/story/2024-06-06/hottest-temperatures-of-the-year-california-sets-several-daily-records-and-more-are-possible\\', \\'content\\': \\'June 5, 2024 Record-setting temperatures Palmdale in Los Angeles County set a record high for June 5, hitting 105 degrees Wednesday, two degrees above its record from 1981, according to the ...\\'}]', name='tavily_search_results_json', id='5e5b1044-6290-4a91-ac4b-54c388efe4e9', tool_call_id='call_lftzLKmbKKl0xqSnfrgXpfDc'), AIMessage(content='The current weather in Los Angeles is overcast with a temperature of 20°C (68°F). The wind is blowing at 10.5 mph from the WSW direction. The humidity is at 73% with a cloud cover of 100%. The visibility is 16.0 km (9.0 miles), and the UV index is 7.0.', response_metadata={'token_usage': {'completion_tokens': 76, 'prompt_tokens': 692, 'total_tokens': 768}, 'model_name': 'gpt-3.5-turbo', 'system_fingerprint': None, 'finish_reason': 'stop', 'logprobs': None}, id='run-16f049a3-cd00-40d1-9332-3b673e601b3d-0', usage_metadata={'input_tokens': 692, 'output_tokens': 76, 'total_tokens': 768})]}\n",
      "{'messages': [AIMessage(content='The current weather in Los Angeles is overcast with a temperature of 20°C (68°F). The wind is blowing at 10.5 mph from the WSW direction. The humidity is at 73% with a cloud cover of 100%. The visibility is 16.0 km (9.0 miles), and the UV index is 7.0.', response_metadata={'token_usage': {'completion_tokens': 76, 'prompt_tokens': 692, 'total_tokens': 768}, 'model_name': 'gpt-3.5-turbo', 'system_fingerprint': None, 'finish_reason': 'stop', 'logprobs': None}, id='run-16f049a3-cd00-40d1-9332-3b673e601b3d-0', usage_metadata={'input_tokens': 692, 'output_tokens': 76, 'total_tokens': 768})]}\n"
     ]
    }
   ],
   "source": [
    "messages = [HumanMessage(\"Whats the weather in LA?\")]\n",
    "thread = {\"configurable\": {\"thread_id\": \"2\"}}\n",
    "for event in abot.graph.stream({\"messages\": messages}, thread):\n",
    "    for v in event.values():\n",
    "        print(v)\n",
    "while abot.graph.get_state(thread).next:\n",
    "    print(\"\\n\", abot.graph.get_state(thread), \"\\n\")\n",
    "    _input = input(\"proceed?\")\n",
    "    if _input != \"y\":\n",
    "        print(\"aborting\")\n",
    "        break\n",
    "    for event in abot.graph.stream(None, thread):\n",
    "        for v in event.values():\n",
    "            print(v)"
   ]
  },
  {
   "cell_type": "code",
   "execution_count": 14,
   "metadata": {},
   "outputs": [
    {
     "name": "stdout",
     "output_type": "stream",
     "text": [
      "{'messages': [HumanMessage(content='Whats the weather in LA?', id='4a15be44-8c71-445e-bbdb-0c60140a09a5'), AIMessage(content='', additional_kwargs={'tool_calls': [{'id': 'call_t0t0V7AeijZUB2Obd2MRXavj', 'function': {'arguments': '{\"query\":\"weather in Los Angeles\"}', 'name': 'tavily_search_results_json'}, 'type': 'function'}]}, response_metadata={'token_usage': {'completion_tokens': 21, 'prompt_tokens': 152, 'total_tokens': 173}, 'model_name': 'gpt-3.5-turbo', 'system_fingerprint': None, 'finish_reason': 'tool_calls', 'logprobs': None}, id='run-b63fc2e0-6f7e-4dba-95b4-20ca86e82935-0', tool_calls=[{'name': 'tavily_search_results_json', 'args': {'query': 'weather in Los Angeles'}, 'id': 'call_t0t0V7AeijZUB2Obd2MRXavj'}], usage_metadata={'input_tokens': 152, 'output_tokens': 21, 'total_tokens': 173})]}\n",
      "{'messages': [AIMessage(content='', additional_kwargs={'tool_calls': [{'id': 'call_t0t0V7AeijZUB2Obd2MRXavj', 'function': {'arguments': '{\"query\":\"weather in Los Angeles\"}', 'name': 'tavily_search_results_json'}, 'type': 'function'}]}, response_metadata={'token_usage': {'completion_tokens': 21, 'prompt_tokens': 152, 'total_tokens': 173}, 'model_name': 'gpt-3.5-turbo', 'system_fingerprint': None, 'finish_reason': 'tool_calls', 'logprobs': None}, id='run-b63fc2e0-6f7e-4dba-95b4-20ca86e82935-0', tool_calls=[{'name': 'tavily_search_results_json', 'args': {'query': 'weather in Los Angeles'}, 'id': 'call_t0t0V7AeijZUB2Obd2MRXavj'}], usage_metadata={'input_tokens': 152, 'output_tokens': 21, 'total_tokens': 173})]}\n"
     ]
    }
   ],
   "source": [
    "messages = [HumanMessage(\"Whats the weather in LA?\")]\n",
    "thread = {\"configurable\": {\"thread_id\": \"3\"}}\n",
    "for event in abot.graph.stream({\"messages\": messages}, thread):\n",
    "    for v in event.values():\n",
    "        print(v)"
   ]
  },
  {
   "cell_type": "code",
   "execution_count": 15,
   "metadata": {},
   "outputs": [
    {
     "data": {
      "text/plain": [
       "StateSnapshot(values={'messages': [HumanMessage(content='Whats the weather in LA?', id='4a15be44-8c71-445e-bbdb-0c60140a09a5'), AIMessage(content='', additional_kwargs={'tool_calls': [{'id': 'call_t0t0V7AeijZUB2Obd2MRXavj', 'function': {'arguments': '{\"query\":\"weather in Los Angeles\"}', 'name': 'tavily_search_results_json'}, 'type': 'function'}]}, response_metadata={'token_usage': {'completion_tokens': 21, 'prompt_tokens': 152, 'total_tokens': 173}, 'model_name': 'gpt-3.5-turbo', 'system_fingerprint': None, 'finish_reason': 'tool_calls', 'logprobs': None}, id='run-b63fc2e0-6f7e-4dba-95b4-20ca86e82935-0', tool_calls=[{'name': 'tavily_search_results_json', 'args': {'query': 'weather in Los Angeles'}, 'id': 'call_t0t0V7AeijZUB2Obd2MRXavj'}], usage_metadata={'input_tokens': 152, 'output_tokens': 21, 'total_tokens': 173})]}, next=('action',), config={'configurable': {'thread_id': '3', 'thread_ts': '1ef2442c-c792-6f7a-8001-447e7a303bf0'}}, metadata={'source': 'loop', 'step': 1, 'writes': {'llm': {'messages': [AIMessage(content='', additional_kwargs={'tool_calls': [{'id': 'call_t0t0V7AeijZUB2Obd2MRXavj', 'function': {'arguments': '{\"query\":\"weather in Los Angeles\"}', 'name': 'tavily_search_results_json'}, 'type': 'function'}]}, response_metadata={'token_usage': {'completion_tokens': 21, 'prompt_tokens': 152, 'total_tokens': 173}, 'model_name': 'gpt-3.5-turbo', 'system_fingerprint': None, 'finish_reason': 'tool_calls', 'logprobs': None}, id='run-b63fc2e0-6f7e-4dba-95b4-20ca86e82935-0', tool_calls=[{'name': 'tavily_search_results_json', 'args': {'query': 'weather in Los Angeles'}, 'id': 'call_t0t0V7AeijZUB2Obd2MRXavj'}], usage_metadata={'input_tokens': 152, 'output_tokens': 21, 'total_tokens': 173})]}}}, created_at='2024-06-06T20:24:38.871005+00:00', parent_config={'configurable': {'thread_id': '3', 'thread_ts': '1ef2442c-b472-6b3a-8000-2f6aa31b2219'}})"
      ]
     },
     "execution_count": 15,
     "metadata": {},
     "output_type": "execute_result"
    }
   ],
   "source": [
    "abot.graph.get_state(thread)"
   ]
  },
  {
   "cell_type": "code",
   "execution_count": 16,
   "metadata": {},
   "outputs": [],
   "source": [
    "current_values = abot.graph.get_state(thread)"
   ]
  },
  {
   "cell_type": "code",
   "execution_count": 17,
   "metadata": {},
   "outputs": [
    {
     "data": {
      "text/plain": [
       "AIMessage(content='', additional_kwargs={'tool_calls': [{'id': 'call_t0t0V7AeijZUB2Obd2MRXavj', 'function': {'arguments': '{\"query\":\"weather in Los Angeles\"}', 'name': 'tavily_search_results_json'}, 'type': 'function'}]}, response_metadata={'token_usage': {'completion_tokens': 21, 'prompt_tokens': 152, 'total_tokens': 173}, 'model_name': 'gpt-3.5-turbo', 'system_fingerprint': None, 'finish_reason': 'tool_calls', 'logprobs': None}, id='run-b63fc2e0-6f7e-4dba-95b4-20ca86e82935-0', tool_calls=[{'name': 'tavily_search_results_json', 'args': {'query': 'weather in Los Angeles'}, 'id': 'call_t0t0V7AeijZUB2Obd2MRXavj'}], usage_metadata={'input_tokens': 152, 'output_tokens': 21, 'total_tokens': 173})"
      ]
     },
     "execution_count": 17,
     "metadata": {},
     "output_type": "execute_result"
    }
   ],
   "source": [
    "current_values.values[\"messages\"][-1]"
   ]
  },
  {
   "cell_type": "code",
   "execution_count": 18,
   "metadata": {},
   "outputs": [
    {
     "data": {
      "text/plain": [
       "[{'name': 'tavily_search_results_json',\n",
       "  'args': {'query': 'weather in Los Angeles'},\n",
       "  'id': 'call_t0t0V7AeijZUB2Obd2MRXavj'}]"
      ]
     },
     "execution_count": 18,
     "metadata": {},
     "output_type": "execute_result"
    }
   ],
   "source": [
    "current_values.values[\"messages\"][-1].tool_calls"
   ]
  },
  {
   "cell_type": "code",
   "execution_count": 19,
   "metadata": {},
   "outputs": [],
   "source": [
    "_id = current_values.values[\"messages\"][-1].tool_calls[0][\"id\"]\n",
    "current_values.values[\"messages\"][-1].tool_calls = [\n",
    "    {\n",
    "        \"name\": \"tavily_search_results_json\",\n",
    "        \"args\": {\"query\": \"current weather in Louisiana\"},\n",
    "        \"id\": _id,\n",
    "    }\n",
    "]"
   ]
  },
  {
   "cell_type": "code",
   "execution_count": 20,
   "metadata": {},
   "outputs": [
    {
     "name": "stdout",
     "output_type": "stream",
     "text": [
      "{'messages': [HumanMessage(content='Whats the weather in LA?', id='4a15be44-8c71-445e-bbdb-0c60140a09a5'), AIMessage(content='', additional_kwargs={'tool_calls': [{'id': 'call_t0t0V7AeijZUB2Obd2MRXavj', 'function': {'arguments': '{\"query\":\"weather in Los Angeles\"}', 'name': 'tavily_search_results_json'}, 'type': 'function'}]}, response_metadata={'token_usage': {'completion_tokens': 21, 'prompt_tokens': 152, 'total_tokens': 173}, 'model_name': 'gpt-3.5-turbo', 'system_fingerprint': None, 'finish_reason': 'tool_calls', 'logprobs': None}, id='run-b63fc2e0-6f7e-4dba-95b4-20ca86e82935-0', tool_calls=[{'name': 'tavily_search_results_json', 'args': {'query': 'current weather in Louisiana'}, 'id': 'call_t0t0V7AeijZUB2Obd2MRXavj'}], usage_metadata={'input_tokens': 152, 'output_tokens': 21, 'total_tokens': 173})]}\n"
     ]
    },
    {
     "data": {
      "text/plain": [
       "{'configurable': {'thread_id': '3',\n",
       "  'thread_ts': '1ef2442d-f053-6878-8002-e51adfe42ea8'}}"
      ]
     },
     "execution_count": 20,
     "metadata": {},
     "output_type": "execute_result"
    }
   ],
   "source": [
    "abot.graph.update_state(thread, current_values.values)"
   ]
  },
  {
   "cell_type": "code",
   "execution_count": 21,
   "metadata": {},
   "outputs": [
    {
     "data": {
      "text/plain": [
       "StateSnapshot(values={'messages': [HumanMessage(content='Whats the weather in LA?', id='4a15be44-8c71-445e-bbdb-0c60140a09a5'), AIMessage(content='', additional_kwargs={'tool_calls': [{'id': 'call_t0t0V7AeijZUB2Obd2MRXavj', 'function': {'arguments': '{\"query\":\"weather in Los Angeles\"}', 'name': 'tavily_search_results_json'}, 'type': 'function'}]}, response_metadata={'token_usage': {'completion_tokens': 21, 'prompt_tokens': 152, 'total_tokens': 173}, 'model_name': 'gpt-3.5-turbo', 'system_fingerprint': None, 'finish_reason': 'tool_calls', 'logprobs': None}, id='run-b63fc2e0-6f7e-4dba-95b4-20ca86e82935-0', tool_calls=[{'name': 'tavily_search_results_json', 'args': {'query': 'current weather in Louisiana'}, 'id': 'call_t0t0V7AeijZUB2Obd2MRXavj'}], usage_metadata={'input_tokens': 152, 'output_tokens': 21, 'total_tokens': 173})]}, next=('action',), config={'configurable': {'thread_id': '3', 'thread_ts': '1ef2442d-f053-6878-8002-e51adfe42ea8'}}, metadata={'source': 'update', 'step': 2, 'writes': {'llm': {'messages': [HumanMessage(content='Whats the weather in LA?', id='4a15be44-8c71-445e-bbdb-0c60140a09a5'), AIMessage(content='', additional_kwargs={'tool_calls': [{'id': 'call_t0t0V7AeijZUB2Obd2MRXavj', 'function': {'arguments': '{\"query\":\"weather in Los Angeles\"}', 'name': 'tavily_search_results_json'}, 'type': 'function'}]}, response_metadata={'token_usage': {'completion_tokens': 21, 'prompt_tokens': 152, 'total_tokens': 173}, 'model_name': 'gpt-3.5-turbo', 'system_fingerprint': None, 'finish_reason': 'tool_calls', 'logprobs': None}, id='run-b63fc2e0-6f7e-4dba-95b4-20ca86e82935-0', tool_calls=[{'name': 'tavily_search_results_json', 'args': {'query': 'current weather in Louisiana'}, 'id': 'call_t0t0V7AeijZUB2Obd2MRXavj'}], usage_metadata={'input_tokens': 152, 'output_tokens': 21, 'total_tokens': 173})]}}}, created_at='2024-06-06T20:25:09.987717+00:00', parent_config={'configurable': {'thread_id': '3', 'thread_ts': '1ef2442c-c792-6f7a-8001-447e7a303bf0'}})"
      ]
     },
     "execution_count": 21,
     "metadata": {},
     "output_type": "execute_result"
    }
   ],
   "source": [
    "abot.graph.get_state(thread)"
   ]
  },
  {
   "cell_type": "code",
   "execution_count": 22,
   "metadata": {},
   "outputs": [
    {
     "name": "stdout",
     "output_type": "stream",
     "text": [
      "Calling: {'name': 'tavily_search_results_json', 'args': {'query': 'current weather in Louisiana'}, 'id': 'call_t0t0V7AeijZUB2Obd2MRXavj'}\n",
      "Back to the model!\n",
      "{'messages': [ToolMessage(content='[{\\'url\\': \\'https://www.weatherapi.com/\\', \\'content\\': \"{\\'location\\': {\\'name\\': \\'Louisiana\\', \\'region\\': \\'Missouri\\', \\'country\\': \\'USA United States of America\\', \\'lat\\': 39.44, \\'lon\\': -91.06, \\'tz_id\\': \\'America/Chicago\\', \\'localtime_epoch\\': 1717705486, \\'localtime\\': \\'2024-06-06 15:24\\'}, \\'current\\': {\\'last_updated_epoch\\': 1717704900, \\'last_updated\\': \\'2024-06-06 15:15\\', \\'temp_c\\': 27.4, \\'temp_f\\': 81.3, \\'is_day\\': 1, \\'condition\\': {\\'text\\': \\'Sunny\\', \\'icon\\': \\'//cdn.weatherapi.com/weather/64x64/day/113.png\\', \\'code\\': 1000}, \\'wind_mph\\': 16.1, \\'wind_kph\\': 25.9, \\'wind_degree\\': 290, \\'wind_dir\\': \\'WNW\\', \\'pressure_mb\\': 1010.0, \\'pressure_in\\': 29.81, \\'precip_mm\\': 0.0, \\'precip_in\\': 0.0, \\'humidity\\': 26, \\'cloud\\': 0, \\'feelslike_c\\': 28.5, \\'feelslike_f\\': 83.3, \\'windchill_c\\': 23.5, \\'windchill_f\\': 74.3, \\'heatindex_c\\': 25.1, \\'heatindex_f\\': 77.1, \\'dewpoint_c\\': 14.3, \\'dewpoint_f\\': 57.8, \\'vis_km\\': 16.0, \\'vis_miles\\': 9.0, \\'uv\\': 6.0, \\'gust_mph\\': 18.6, \\'gust_kph\\': 29.9}}\"}, {\\'url\\': \\'https://forecast.weather.gov/zipcity.php?inputstring=Baton+Rouge,LA\\', \\'content\\': \\'Baton Rouge LA 30.45°N 91.12°W. Last Update: 9:41 am CDT Jun 4, 2024. Forecast Valid: 10am CDT Jun 4, 2024-6pm CDT Jun 10, 2024 . Forecast Discussion . Additional Resources. Radar & Satellite Image. Hourly Weather Forecast. National Digital Forecast Database ... Severe Weather ; Current Outlook Maps ; Drought ; Fire Weather ; Fronts ...\\'}]', name='tavily_search_results_json', tool_call_id='call_t0t0V7AeijZUB2Obd2MRXavj')]}\n",
      "{'messages': [HumanMessage(content='Whats the weather in LA?', id='4a15be44-8c71-445e-bbdb-0c60140a09a5'), AIMessage(content='', additional_kwargs={'tool_calls': [{'id': 'call_t0t0V7AeijZUB2Obd2MRXavj', 'function': {'arguments': '{\"query\":\"weather in Los Angeles\"}', 'name': 'tavily_search_results_json'}, 'type': 'function'}]}, response_metadata={'token_usage': {'completion_tokens': 21, 'prompt_tokens': 152, 'total_tokens': 173}, 'model_name': 'gpt-3.5-turbo', 'system_fingerprint': None, 'finish_reason': 'tool_calls', 'logprobs': None}, id='run-b63fc2e0-6f7e-4dba-95b4-20ca86e82935-0', tool_calls=[{'name': 'tavily_search_results_json', 'args': {'query': 'current weather in Louisiana'}, 'id': 'call_t0t0V7AeijZUB2Obd2MRXavj'}], usage_metadata={'input_tokens': 152, 'output_tokens': 21, 'total_tokens': 173}), ToolMessage(content='[{\\'url\\': \\'https://www.weatherapi.com/\\', \\'content\\': \"{\\'location\\': {\\'name\\': \\'Louisiana\\', \\'region\\': \\'Missouri\\', \\'country\\': \\'USA United States of America\\', \\'lat\\': 39.44, \\'lon\\': -91.06, \\'tz_id\\': \\'America/Chicago\\', \\'localtime_epoch\\': 1717705486, \\'localtime\\': \\'2024-06-06 15:24\\'}, \\'current\\': {\\'last_updated_epoch\\': 1717704900, \\'last_updated\\': \\'2024-06-06 15:15\\', \\'temp_c\\': 27.4, \\'temp_f\\': 81.3, \\'is_day\\': 1, \\'condition\\': {\\'text\\': \\'Sunny\\', \\'icon\\': \\'//cdn.weatherapi.com/weather/64x64/day/113.png\\', \\'code\\': 1000}, \\'wind_mph\\': 16.1, \\'wind_kph\\': 25.9, \\'wind_degree\\': 290, \\'wind_dir\\': \\'WNW\\', \\'pressure_mb\\': 1010.0, \\'pressure_in\\': 29.81, \\'precip_mm\\': 0.0, \\'precip_in\\': 0.0, \\'humidity\\': 26, \\'cloud\\': 0, \\'feelslike_c\\': 28.5, \\'feelslike_f\\': 83.3, \\'windchill_c\\': 23.5, \\'windchill_f\\': 74.3, \\'heatindex_c\\': 25.1, \\'heatindex_f\\': 77.1, \\'dewpoint_c\\': 14.3, \\'dewpoint_f\\': 57.8, \\'vis_km\\': 16.0, \\'vis_miles\\': 9.0, \\'uv\\': 6.0, \\'gust_mph\\': 18.6, \\'gust_kph\\': 29.9}}\"}, {\\'url\\': \\'https://forecast.weather.gov/zipcity.php?inputstring=Baton+Rouge,LA\\', \\'content\\': \\'Baton Rouge LA 30.45°N 91.12°W. Last Update: 9:41 am CDT Jun 4, 2024. Forecast Valid: 10am CDT Jun 4, 2024-6pm CDT Jun 10, 2024 . Forecast Discussion . Additional Resources. Radar & Satellite Image. Hourly Weather Forecast. National Digital Forecast Database ... Severe Weather ; Current Outlook Maps ; Drought ; Fire Weather ; Fronts ...\\'}]', name='tavily_search_results_json', id='0e062280-0df0-4174-82ce-cdcbe7730562', tool_call_id='call_t0t0V7AeijZUB2Obd2MRXavj'), AIMessage(content='The current weather in Louisiana is sunny with a temperature of 27.4°C (81.3°F). The wind speed is 25.9 km/h coming from the west-northwest direction. The humidity is at 26%, and there is no precipitation at the moment.', response_metadata={'token_usage': {'completion_tokens': 58, 'prompt_tokens': 724, 'total_tokens': 782}, 'model_name': 'gpt-3.5-turbo', 'system_fingerprint': None, 'finish_reason': 'stop', 'logprobs': None}, id='run-9675f220-7837-49d7-9ac8-b24027da415a-0', usage_metadata={'input_tokens': 724, 'output_tokens': 58, 'total_tokens': 782})]}\n",
      "{'messages': [AIMessage(content='The current weather in Louisiana is sunny with a temperature of 27.4°C (81.3°F). The wind speed is 25.9 km/h coming from the west-northwest direction. The humidity is at 26%, and there is no precipitation at the moment.', response_metadata={'token_usage': {'completion_tokens': 58, 'prompt_tokens': 724, 'total_tokens': 782}, 'model_name': 'gpt-3.5-turbo', 'system_fingerprint': None, 'finish_reason': 'stop', 'logprobs': None}, id='run-9675f220-7837-49d7-9ac8-b24027da415a-0', usage_metadata={'input_tokens': 724, 'output_tokens': 58, 'total_tokens': 782})]}\n"
     ]
    }
   ],
   "source": [
    "for event in abot.graph.stream(None, thread):\n",
    "    for v in event.values():\n",
    "        print(v)"
   ]
  },
  {
   "cell_type": "code",
   "execution_count": 23,
   "metadata": {},
   "outputs": [
    {
     "name": "stdout",
     "output_type": "stream",
     "text": [
      "StateSnapshot(values={'messages': [HumanMessage(content='Whats the weather in LA?', id='4a15be44-8c71-445e-bbdb-0c60140a09a5'), AIMessage(content='', additional_kwargs={'tool_calls': [{'id': 'call_t0t0V7AeijZUB2Obd2MRXavj', 'function': {'arguments': '{\"query\":\"weather in Los Angeles\"}', 'name': 'tavily_search_results_json'}, 'type': 'function'}]}, response_metadata={'token_usage': {'completion_tokens': 21, 'prompt_tokens': 152, 'total_tokens': 173}, 'model_name': 'gpt-3.5-turbo', 'system_fingerprint': None, 'finish_reason': 'tool_calls', 'logprobs': None}, id='run-b63fc2e0-6f7e-4dba-95b4-20ca86e82935-0', tool_calls=[{'name': 'tavily_search_results_json', 'args': {'query': 'current weather in Louisiana'}, 'id': 'call_t0t0V7AeijZUB2Obd2MRXavj'}], usage_metadata={'input_tokens': 152, 'output_tokens': 21, 'total_tokens': 173}), ToolMessage(content='[{\\'url\\': \\'https://www.weatherapi.com/\\', \\'content\\': \"{\\'location\\': {\\'name\\': \\'Louisiana\\', \\'region\\': \\'Missouri\\', \\'country\\': \\'USA United States of America\\', \\'lat\\': 39.44, \\'lon\\': -91.06, \\'tz_id\\': \\'America/Chicago\\', \\'localtime_epoch\\': 1717705486, \\'localtime\\': \\'2024-06-06 15:24\\'}, \\'current\\': {\\'last_updated_epoch\\': 1717704900, \\'last_updated\\': \\'2024-06-06 15:15\\', \\'temp_c\\': 27.4, \\'temp_f\\': 81.3, \\'is_day\\': 1, \\'condition\\': {\\'text\\': \\'Sunny\\', \\'icon\\': \\'//cdn.weatherapi.com/weather/64x64/day/113.png\\', \\'code\\': 1000}, \\'wind_mph\\': 16.1, \\'wind_kph\\': 25.9, \\'wind_degree\\': 290, \\'wind_dir\\': \\'WNW\\', \\'pressure_mb\\': 1010.0, \\'pressure_in\\': 29.81, \\'precip_mm\\': 0.0, \\'precip_in\\': 0.0, \\'humidity\\': 26, \\'cloud\\': 0, \\'feelslike_c\\': 28.5, \\'feelslike_f\\': 83.3, \\'windchill_c\\': 23.5, \\'windchill_f\\': 74.3, \\'heatindex_c\\': 25.1, \\'heatindex_f\\': 77.1, \\'dewpoint_c\\': 14.3, \\'dewpoint_f\\': 57.8, \\'vis_km\\': 16.0, \\'vis_miles\\': 9.0, \\'uv\\': 6.0, \\'gust_mph\\': 18.6, \\'gust_kph\\': 29.9}}\"}, {\\'url\\': \\'https://forecast.weather.gov/zipcity.php?inputstring=Baton+Rouge,LA\\', \\'content\\': \\'Baton Rouge LA 30.45°N 91.12°W. Last Update: 9:41 am CDT Jun 4, 2024. Forecast Valid: 10am CDT Jun 4, 2024-6pm CDT Jun 10, 2024 . Forecast Discussion . Additional Resources. Radar & Satellite Image. Hourly Weather Forecast. National Digital Forecast Database ... Severe Weather ; Current Outlook Maps ; Drought ; Fire Weather ; Fronts ...\\'}]', name='tavily_search_results_json', id='0e062280-0df0-4174-82ce-cdcbe7730562', tool_call_id='call_t0t0V7AeijZUB2Obd2MRXavj'), AIMessage(content='The current weather in Louisiana is sunny with a temperature of 27.4°C (81.3°F). The wind speed is 25.9 km/h coming from the west-northwest direction. The humidity is at 26%, and there is no precipitation at the moment.', response_metadata={'token_usage': {'completion_tokens': 58, 'prompt_tokens': 724, 'total_tokens': 782}, 'model_name': 'gpt-3.5-turbo', 'system_fingerprint': None, 'finish_reason': 'stop', 'logprobs': None}, id='run-9675f220-7837-49d7-9ac8-b24027da415a-0', usage_metadata={'input_tokens': 724, 'output_tokens': 58, 'total_tokens': 782})]}, next=(), config={'configurable': {'thread_id': '3', 'thread_ts': '1ef2442e-9159-634e-8004-0c9ad8fb3462'}}, metadata={'source': 'loop', 'step': 4, 'writes': {'llm': {'messages': [AIMessage(content='The current weather in Louisiana is sunny with a temperature of 27.4°C (81.3°F). The wind speed is 25.9 km/h coming from the west-northwest direction. The humidity is at 26%, and there is no precipitation at the moment.', response_metadata={'token_usage': {'completion_tokens': 58, 'prompt_tokens': 724, 'total_tokens': 782}, 'model_name': 'gpt-3.5-turbo', 'system_fingerprint': None, 'finish_reason': 'stop', 'logprobs': None}, id='run-9675f220-7837-49d7-9ac8-b24027da415a-0', usage_metadata={'input_tokens': 724, 'output_tokens': 58, 'total_tokens': 782})]}}}, created_at='2024-06-06T20:25:26.872118+00:00', parent_config={'configurable': {'thread_id': '3', 'thread_ts': '1ef2442e-7d85-6747-8003-d35537bab9e0'}})\n",
      "--\n",
      "StateSnapshot(values={'messages': [HumanMessage(content='Whats the weather in LA?', id='4a15be44-8c71-445e-bbdb-0c60140a09a5'), AIMessage(content='', additional_kwargs={'tool_calls': [{'id': 'call_t0t0V7AeijZUB2Obd2MRXavj', 'function': {'arguments': '{\"query\":\"weather in Los Angeles\"}', 'name': 'tavily_search_results_json'}, 'type': 'function'}]}, response_metadata={'token_usage': {'completion_tokens': 21, 'prompt_tokens': 152, 'total_tokens': 173}, 'model_name': 'gpt-3.5-turbo', 'system_fingerprint': None, 'finish_reason': 'tool_calls', 'logprobs': None}, id='run-b63fc2e0-6f7e-4dba-95b4-20ca86e82935-0', tool_calls=[{'name': 'tavily_search_results_json', 'args': {'query': 'current weather in Louisiana'}, 'id': 'call_t0t0V7AeijZUB2Obd2MRXavj'}], usage_metadata={'input_tokens': 152, 'output_tokens': 21, 'total_tokens': 173}), ToolMessage(content='[{\\'url\\': \\'https://www.weatherapi.com/\\', \\'content\\': \"{\\'location\\': {\\'name\\': \\'Louisiana\\', \\'region\\': \\'Missouri\\', \\'country\\': \\'USA United States of America\\', \\'lat\\': 39.44, \\'lon\\': -91.06, \\'tz_id\\': \\'America/Chicago\\', \\'localtime_epoch\\': 1717705486, \\'localtime\\': \\'2024-06-06 15:24\\'}, \\'current\\': {\\'last_updated_epoch\\': 1717704900, \\'last_updated\\': \\'2024-06-06 15:15\\', \\'temp_c\\': 27.4, \\'temp_f\\': 81.3, \\'is_day\\': 1, \\'condition\\': {\\'text\\': \\'Sunny\\', \\'icon\\': \\'//cdn.weatherapi.com/weather/64x64/day/113.png\\', \\'code\\': 1000}, \\'wind_mph\\': 16.1, \\'wind_kph\\': 25.9, \\'wind_degree\\': 290, \\'wind_dir\\': \\'WNW\\', \\'pressure_mb\\': 1010.0, \\'pressure_in\\': 29.81, \\'precip_mm\\': 0.0, \\'precip_in\\': 0.0, \\'humidity\\': 26, \\'cloud\\': 0, \\'feelslike_c\\': 28.5, \\'feelslike_f\\': 83.3, \\'windchill_c\\': 23.5, \\'windchill_f\\': 74.3, \\'heatindex_c\\': 25.1, \\'heatindex_f\\': 77.1, \\'dewpoint_c\\': 14.3, \\'dewpoint_f\\': 57.8, \\'vis_km\\': 16.0, \\'vis_miles\\': 9.0, \\'uv\\': 6.0, \\'gust_mph\\': 18.6, \\'gust_kph\\': 29.9}}\"}, {\\'url\\': \\'https://forecast.weather.gov/zipcity.php?inputstring=Baton+Rouge,LA\\', \\'content\\': \\'Baton Rouge LA 30.45°N 91.12°W. Last Update: 9:41 am CDT Jun 4, 2024. Forecast Valid: 10am CDT Jun 4, 2024-6pm CDT Jun 10, 2024 . Forecast Discussion . Additional Resources. Radar & Satellite Image. Hourly Weather Forecast. National Digital Forecast Database ... Severe Weather ; Current Outlook Maps ; Drought ; Fire Weather ; Fronts ...\\'}]', name='tavily_search_results_json', id='0e062280-0df0-4174-82ce-cdcbe7730562', tool_call_id='call_t0t0V7AeijZUB2Obd2MRXavj')]}, next=('llm',), config={'configurable': {'thread_id': '3', 'thread_ts': '1ef2442e-7d85-6747-8003-d35537bab9e0'}}, metadata={'source': 'loop', 'step': 3, 'writes': {'action': {'messages': [ToolMessage(content='[{\\'url\\': \\'https://www.weatherapi.com/\\', \\'content\\': \"{\\'location\\': {\\'name\\': \\'Louisiana\\', \\'region\\': \\'Missouri\\', \\'country\\': \\'USA United States of America\\', \\'lat\\': 39.44, \\'lon\\': -91.06, \\'tz_id\\': \\'America/Chicago\\', \\'localtime_epoch\\': 1717705486, \\'localtime\\': \\'2024-06-06 15:24\\'}, \\'current\\': {\\'last_updated_epoch\\': 1717704900, \\'last_updated\\': \\'2024-06-06 15:15\\', \\'temp_c\\': 27.4, \\'temp_f\\': 81.3, \\'is_day\\': 1, \\'condition\\': {\\'text\\': \\'Sunny\\', \\'icon\\': \\'//cdn.weatherapi.com/weather/64x64/day/113.png\\', \\'code\\': 1000}, \\'wind_mph\\': 16.1, \\'wind_kph\\': 25.9, \\'wind_degree\\': 290, \\'wind_dir\\': \\'WNW\\', \\'pressure_mb\\': 1010.0, \\'pressure_in\\': 29.81, \\'precip_mm\\': 0.0, \\'precip_in\\': 0.0, \\'humidity\\': 26, \\'cloud\\': 0, \\'feelslike_c\\': 28.5, \\'feelslike_f\\': 83.3, \\'windchill_c\\': 23.5, \\'windchill_f\\': 74.3, \\'heatindex_c\\': 25.1, \\'heatindex_f\\': 77.1, \\'dewpoint_c\\': 14.3, \\'dewpoint_f\\': 57.8, \\'vis_km\\': 16.0, \\'vis_miles\\': 9.0, \\'uv\\': 6.0, \\'gust_mph\\': 18.6, \\'gust_kph\\': 29.9}}\"}, {\\'url\\': \\'https://forecast.weather.gov/zipcity.php?inputstring=Baton+Rouge,LA\\', \\'content\\': \\'Baton Rouge LA 30.45°N 91.12°W. Last Update: 9:41 am CDT Jun 4, 2024. Forecast Valid: 10am CDT Jun 4, 2024-6pm CDT Jun 10, 2024 . Forecast Discussion . Additional Resources. Radar & Satellite Image. Hourly Weather Forecast. National Digital Forecast Database ... Severe Weather ; Current Outlook Maps ; Drought ; Fire Weather ; Fronts ...\\'}]', name='tavily_search_results_json', id='0e062280-0df0-4174-82ce-cdcbe7730562', tool_call_id='call_t0t0V7AeijZUB2Obd2MRXavj')]}}}, created_at='2024-06-06T20:25:24.793084+00:00', parent_config={'configurable': {'thread_id': '3', 'thread_ts': '1ef2442d-f053-6878-8002-e51adfe42ea8'}})\n",
      "--\n",
      "StateSnapshot(values={'messages': [HumanMessage(content='Whats the weather in LA?', id='4a15be44-8c71-445e-bbdb-0c60140a09a5'), AIMessage(content='', additional_kwargs={'tool_calls': [{'id': 'call_t0t0V7AeijZUB2Obd2MRXavj', 'function': {'arguments': '{\"query\":\"weather in Los Angeles\"}', 'name': 'tavily_search_results_json'}, 'type': 'function'}]}, response_metadata={'token_usage': {'completion_tokens': 21, 'prompt_tokens': 152, 'total_tokens': 173}, 'model_name': 'gpt-3.5-turbo', 'system_fingerprint': None, 'finish_reason': 'tool_calls', 'logprobs': None}, id='run-b63fc2e0-6f7e-4dba-95b4-20ca86e82935-0', tool_calls=[{'name': 'tavily_search_results_json', 'args': {'query': 'current weather in Louisiana'}, 'id': 'call_t0t0V7AeijZUB2Obd2MRXavj'}], usage_metadata={'input_tokens': 152, 'output_tokens': 21, 'total_tokens': 173})]}, next=('action',), config={'configurable': {'thread_id': '3', 'thread_ts': '1ef2442d-f053-6878-8002-e51adfe42ea8'}}, metadata={'source': 'update', 'step': 2, 'writes': {'llm': {'messages': [HumanMessage(content='Whats the weather in LA?', id='4a15be44-8c71-445e-bbdb-0c60140a09a5'), AIMessage(content='', additional_kwargs={'tool_calls': [{'id': 'call_t0t0V7AeijZUB2Obd2MRXavj', 'function': {'arguments': '{\"query\":\"weather in Los Angeles\"}', 'name': 'tavily_search_results_json'}, 'type': 'function'}]}, response_metadata={'token_usage': {'completion_tokens': 21, 'prompt_tokens': 152, 'total_tokens': 173}, 'model_name': 'gpt-3.5-turbo', 'system_fingerprint': None, 'finish_reason': 'tool_calls', 'logprobs': None}, id='run-b63fc2e0-6f7e-4dba-95b4-20ca86e82935-0', tool_calls=[{'name': 'tavily_search_results_json', 'args': {'query': 'current weather in Louisiana'}, 'id': 'call_t0t0V7AeijZUB2Obd2MRXavj'}], usage_metadata={'input_tokens': 152, 'output_tokens': 21, 'total_tokens': 173})]}}}, created_at='2024-06-06T20:25:09.987717+00:00', parent_config={'configurable': {'thread_id': '3', 'thread_ts': '1ef2442c-c792-6f7a-8001-447e7a303bf0'}})\n",
      "--\n",
      "StateSnapshot(values={'messages': [HumanMessage(content='Whats the weather in LA?', id='4a15be44-8c71-445e-bbdb-0c60140a09a5'), AIMessage(content='', additional_kwargs={'tool_calls': [{'id': 'call_t0t0V7AeijZUB2Obd2MRXavj', 'function': {'arguments': '{\"query\":\"weather in Los Angeles\"}', 'name': 'tavily_search_results_json'}, 'type': 'function'}]}, response_metadata={'token_usage': {'completion_tokens': 21, 'prompt_tokens': 152, 'total_tokens': 173}, 'model_name': 'gpt-3.5-turbo', 'system_fingerprint': None, 'finish_reason': 'tool_calls', 'logprobs': None}, id='run-b63fc2e0-6f7e-4dba-95b4-20ca86e82935-0', tool_calls=[{'name': 'tavily_search_results_json', 'args': {'query': 'weather in Los Angeles'}, 'id': 'call_t0t0V7AeijZUB2Obd2MRXavj'}], usage_metadata={'input_tokens': 152, 'output_tokens': 21, 'total_tokens': 173})]}, next=('action',), config={'configurable': {'thread_id': '3', 'thread_ts': '1ef2442c-c792-6f7a-8001-447e7a303bf0'}}, metadata={'source': 'loop', 'step': 1, 'writes': {'llm': {'messages': [AIMessage(content='', additional_kwargs={'tool_calls': [{'id': 'call_t0t0V7AeijZUB2Obd2MRXavj', 'function': {'arguments': '{\"query\":\"weather in Los Angeles\"}', 'name': 'tavily_search_results_json'}, 'type': 'function'}]}, response_metadata={'token_usage': {'completion_tokens': 21, 'prompt_tokens': 152, 'total_tokens': 173}, 'model_name': 'gpt-3.5-turbo', 'system_fingerprint': None, 'finish_reason': 'tool_calls', 'logprobs': None}, id='run-b63fc2e0-6f7e-4dba-95b4-20ca86e82935-0', tool_calls=[{'name': 'tavily_search_results_json', 'args': {'query': 'weather in Los Angeles'}, 'id': 'call_t0t0V7AeijZUB2Obd2MRXavj'}], usage_metadata={'input_tokens': 152, 'output_tokens': 21, 'total_tokens': 173})]}}}, created_at='2024-06-06T20:24:38.871005+00:00', parent_config={'configurable': {'thread_id': '3', 'thread_ts': '1ef2442c-b472-6b3a-8000-2f6aa31b2219'}})\n",
      "--\n",
      "StateSnapshot(values={'messages': [HumanMessage(content='Whats the weather in LA?', id='4a15be44-8c71-445e-bbdb-0c60140a09a5')]}, next=('llm',), config={'configurable': {'thread_id': '3', 'thread_ts': '1ef2442c-b472-6b3a-8000-2f6aa31b2219'}}, metadata={'source': 'loop', 'step': 0, 'writes': None}, created_at='2024-06-06T20:24:36.865484+00:00', parent_config={'configurable': {'thread_id': '3', 'thread_ts': '1ef2442c-b46c-6bef-bfff-eb4e68d42f6c'}})\n",
      "--\n",
      "StateSnapshot(values={'messages': []}, next=('__start__',), config={'configurable': {'thread_id': '3', 'thread_ts': '1ef2442c-b46c-6bef-bfff-eb4e68d42f6c'}}, metadata={'source': 'input', 'step': -1, 'writes': {'messages': [HumanMessage(content='Whats the weather in LA?')]}}, created_at='2024-06-06T20:24:36.863066+00:00', parent_config=None)\n",
      "--\n"
     ]
    }
   ],
   "source": [
    "states = []\n",
    "for state in abot.graph.get_state_history(thread):\n",
    "    print(state)\n",
    "    print(\"--\")\n",
    "    states.append(state)"
   ]
  },
  {
   "cell_type": "code",
   "execution_count": 24,
   "metadata": {},
   "outputs": [],
   "source": [
    "to_replay = states[-3]"
   ]
  },
  {
   "cell_type": "code",
   "execution_count": 25,
   "metadata": {},
   "outputs": [
    {
     "data": {
      "text/plain": [
       "StateSnapshot(values={'messages': [HumanMessage(content='Whats the weather in LA?', id='4a15be44-8c71-445e-bbdb-0c60140a09a5'), AIMessage(content='', additional_kwargs={'tool_calls': [{'id': 'call_t0t0V7AeijZUB2Obd2MRXavj', 'function': {'arguments': '{\"query\":\"weather in Los Angeles\"}', 'name': 'tavily_search_results_json'}, 'type': 'function'}]}, response_metadata={'token_usage': {'completion_tokens': 21, 'prompt_tokens': 152, 'total_tokens': 173}, 'model_name': 'gpt-3.5-turbo', 'system_fingerprint': None, 'finish_reason': 'tool_calls', 'logprobs': None}, id='run-b63fc2e0-6f7e-4dba-95b4-20ca86e82935-0', tool_calls=[{'name': 'tavily_search_results_json', 'args': {'query': 'weather in Los Angeles'}, 'id': 'call_t0t0V7AeijZUB2Obd2MRXavj'}], usage_metadata={'input_tokens': 152, 'output_tokens': 21, 'total_tokens': 173})]}, next=('action',), config={'configurable': {'thread_id': '3', 'thread_ts': '1ef2442c-c792-6f7a-8001-447e7a303bf0'}}, metadata={'source': 'loop', 'step': 1, 'writes': {'llm': {'messages': [AIMessage(content='', additional_kwargs={'tool_calls': [{'id': 'call_t0t0V7AeijZUB2Obd2MRXavj', 'function': {'arguments': '{\"query\":\"weather in Los Angeles\"}', 'name': 'tavily_search_results_json'}, 'type': 'function'}]}, response_metadata={'token_usage': {'completion_tokens': 21, 'prompt_tokens': 152, 'total_tokens': 173}, 'model_name': 'gpt-3.5-turbo', 'system_fingerprint': None, 'finish_reason': 'tool_calls', 'logprobs': None}, id='run-b63fc2e0-6f7e-4dba-95b4-20ca86e82935-0', tool_calls=[{'name': 'tavily_search_results_json', 'args': {'query': 'weather in Los Angeles'}, 'id': 'call_t0t0V7AeijZUB2Obd2MRXavj'}], usage_metadata={'input_tokens': 152, 'output_tokens': 21, 'total_tokens': 173})]}}}, created_at='2024-06-06T20:24:38.871005+00:00', parent_config={'configurable': {'thread_id': '3', 'thread_ts': '1ef2442c-b472-6b3a-8000-2f6aa31b2219'}})"
      ]
     },
     "execution_count": 25,
     "metadata": {},
     "output_type": "execute_result"
    }
   ],
   "source": [
    "to_replay"
   ]
  },
  {
   "cell_type": "code",
   "execution_count": 26,
   "metadata": {},
   "outputs": [
    {
     "name": "stdout",
     "output_type": "stream",
     "text": [
      "Calling: {'name': 'tavily_search_results_json', 'args': {'query': 'weather in Los Angeles'}, 'id': 'call_t0t0V7AeijZUB2Obd2MRXavj'}\n",
      "Back to the model!\n",
      "{'messages': [ToolMessage(content='[{\\'url\\': \\'https://www.weatherapi.com/\\', \\'content\\': \"{\\'location\\': {\\'name\\': \\'Los Angeles\\', \\'region\\': \\'California\\', \\'country\\': \\'United States of America\\', \\'lat\\': 34.05, \\'lon\\': -118.24, \\'tz_id\\': \\'America/Los_Angeles\\', \\'localtime_epoch\\': 1717705514, \\'localtime\\': \\'2024-06-06 13:25\\'}, \\'current\\': {\\'last_updated_epoch\\': 1717704900, \\'last_updated\\': \\'2024-06-06 13:15\\', \\'temp_c\\': 20.0, \\'temp_f\\': 68.0, \\'is_day\\': 1, \\'condition\\': {\\'text\\': \\'Overcast\\', \\'icon\\': \\'//cdn.weatherapi.com/weather/64x64/day/122.png\\', \\'code\\': 1009}, \\'wind_mph\\': 10.5, \\'wind_kph\\': 16.9, \\'wind_degree\\': 250, \\'wind_dir\\': \\'WSW\\', \\'pressure_mb\\': 1013.0, \\'pressure_in\\': 29.92, \\'precip_mm\\': 0.0, \\'precip_in\\': 0.0, \\'humidity\\': 73, \\'cloud\\': 100, \\'feelslike_c\\': 20.0, \\'feelslike_f\\': 68.0, \\'windchill_c\\': 25.7, \\'windchill_f\\': 78.2, \\'heatindex_c\\': 26.2, \\'heatindex_f\\': 79.2, \\'dewpoint_c\\': 13.8, \\'dewpoint_f\\': 56.9, \\'vis_km\\': 16.0, \\'vis_miles\\': 9.0, \\'uv\\': 7.0, \\'gust_mph\\': 10.6, \\'gust_kph\\': 17.0}}\"}, {\\'url\\': \\'https://world-weather.info/forecast/usa/los_angeles/june-2024/\\', \\'content\\': \\'Extended weather forecast in Los Angeles. Hourly Week 10 days 14 days 30 days Year. Detailed ⚡ Los Angeles Weather Forecast for June 2024 - day/night 🌡️ temperatures, precipitations - World-Weather.info.\\'}]', name='tavily_search_results_json', tool_call_id='call_t0t0V7AeijZUB2Obd2MRXavj')]}\n",
      "{'messages': [HumanMessage(content='Whats the weather in LA?', id='4a15be44-8c71-445e-bbdb-0c60140a09a5'), AIMessage(content='', additional_kwargs={'tool_calls': [{'id': 'call_t0t0V7AeijZUB2Obd2MRXavj', 'function': {'arguments': '{\"query\":\"weather in Los Angeles\"}', 'name': 'tavily_search_results_json'}, 'type': 'function'}]}, response_metadata={'token_usage': {'completion_tokens': 21, 'prompt_tokens': 152, 'total_tokens': 173}, 'model_name': 'gpt-3.5-turbo', 'system_fingerprint': None, 'finish_reason': 'tool_calls', 'logprobs': None}, id='run-b63fc2e0-6f7e-4dba-95b4-20ca86e82935-0', tool_calls=[{'name': 'tavily_search_results_json', 'args': {'query': 'weather in Los Angeles'}, 'id': 'call_t0t0V7AeijZUB2Obd2MRXavj'}], usage_metadata={'input_tokens': 152, 'output_tokens': 21, 'total_tokens': 173}), ToolMessage(content='[{\\'url\\': \\'https://www.weatherapi.com/\\', \\'content\\': \"{\\'location\\': {\\'name\\': \\'Los Angeles\\', \\'region\\': \\'California\\', \\'country\\': \\'United States of America\\', \\'lat\\': 34.05, \\'lon\\': -118.24, \\'tz_id\\': \\'America/Los_Angeles\\', \\'localtime_epoch\\': 1717705514, \\'localtime\\': \\'2024-06-06 13:25\\'}, \\'current\\': {\\'last_updated_epoch\\': 1717704900, \\'last_updated\\': \\'2024-06-06 13:15\\', \\'temp_c\\': 20.0, \\'temp_f\\': 68.0, \\'is_day\\': 1, \\'condition\\': {\\'text\\': \\'Overcast\\', \\'icon\\': \\'//cdn.weatherapi.com/weather/64x64/day/122.png\\', \\'code\\': 1009}, \\'wind_mph\\': 10.5, \\'wind_kph\\': 16.9, \\'wind_degree\\': 250, \\'wind_dir\\': \\'WSW\\', \\'pressure_mb\\': 1013.0, \\'pressure_in\\': 29.92, \\'precip_mm\\': 0.0, \\'precip_in\\': 0.0, \\'humidity\\': 73, \\'cloud\\': 100, \\'feelslike_c\\': 20.0, \\'feelslike_f\\': 68.0, \\'windchill_c\\': 25.7, \\'windchill_f\\': 78.2, \\'heatindex_c\\': 26.2, \\'heatindex_f\\': 79.2, \\'dewpoint_c\\': 13.8, \\'dewpoint_f\\': 56.9, \\'vis_km\\': 16.0, \\'vis_miles\\': 9.0, \\'uv\\': 7.0, \\'gust_mph\\': 10.6, \\'gust_kph\\': 17.0}}\"}, {\\'url\\': \\'https://world-weather.info/forecast/usa/los_angeles/june-2024/\\', \\'content\\': \\'Extended weather forecast in Los Angeles. Hourly Week 10 days 14 days 30 days Year. Detailed ⚡ Los Angeles Weather Forecast for June 2024 - day/night 🌡️ temperatures, precipitations - World-Weather.info.\\'}]', name='tavily_search_results_json', id='2226ea9b-fd41-43b2-905c-67ade1d888c1', tool_call_id='call_t0t0V7AeijZUB2Obd2MRXavj'), AIMessage(content='The current weather in Los Angeles is overcast with a temperature of 20°C (68°F). The wind speed is 10.5 mph, and the humidity is 73%.', response_metadata={'token_usage': {'completion_tokens': 38, 'prompt_tokens': 675, 'total_tokens': 713}, 'model_name': 'gpt-3.5-turbo', 'system_fingerprint': None, 'finish_reason': 'stop', 'logprobs': None}, id='run-41bc3b9b-0922-421c-b265-8011062d28cf-0', usage_metadata={'input_tokens': 675, 'output_tokens': 38, 'total_tokens': 713})]}\n",
      "{'messages': [AIMessage(content='The current weather in Los Angeles is overcast with a temperature of 20°C (68°F). The wind speed is 10.5 mph, and the humidity is 73%.', response_metadata={'token_usage': {'completion_tokens': 38, 'prompt_tokens': 675, 'total_tokens': 713}, 'model_name': 'gpt-3.5-turbo', 'system_fingerprint': None, 'finish_reason': 'stop', 'logprobs': None}, id='run-41bc3b9b-0922-421c-b265-8011062d28cf-0', usage_metadata={'input_tokens': 675, 'output_tokens': 38, 'total_tokens': 713})]}\n"
     ]
    }
   ],
   "source": [
    "for event in abot.graph.stream(None, to_replay.config):\n",
    "    for k, v in event.items():\n",
    "        print(v)"
   ]
  },
  {
   "cell_type": "code",
   "execution_count": 27,
   "metadata": {},
   "outputs": [
    {
     "data": {
      "text/plain": [
       "StateSnapshot(values={'messages': [HumanMessage(content='Whats the weather in LA?', id='4a15be44-8c71-445e-bbdb-0c60140a09a5'), AIMessage(content='', additional_kwargs={'tool_calls': [{'id': 'call_t0t0V7AeijZUB2Obd2MRXavj', 'function': {'arguments': '{\"query\":\"weather in Los Angeles\"}', 'name': 'tavily_search_results_json'}, 'type': 'function'}]}, response_metadata={'token_usage': {'completion_tokens': 21, 'prompt_tokens': 152, 'total_tokens': 173}, 'model_name': 'gpt-3.5-turbo', 'system_fingerprint': None, 'finish_reason': 'tool_calls', 'logprobs': None}, id='run-b63fc2e0-6f7e-4dba-95b4-20ca86e82935-0', tool_calls=[{'name': 'tavily_search_results_json', 'args': {'query': 'weather in Los Angeles'}, 'id': 'call_t0t0V7AeijZUB2Obd2MRXavj'}], usage_metadata={'input_tokens': 152, 'output_tokens': 21, 'total_tokens': 173})]}, next=('action',), config={'configurable': {'thread_id': '3', 'thread_ts': '1ef2442c-c792-6f7a-8001-447e7a303bf0'}}, metadata={'source': 'loop', 'step': 1, 'writes': {'llm': {'messages': [AIMessage(content='', additional_kwargs={'tool_calls': [{'id': 'call_t0t0V7AeijZUB2Obd2MRXavj', 'function': {'arguments': '{\"query\":\"weather in Los Angeles\"}', 'name': 'tavily_search_results_json'}, 'type': 'function'}]}, response_metadata={'token_usage': {'completion_tokens': 21, 'prompt_tokens': 152, 'total_tokens': 173}, 'model_name': 'gpt-3.5-turbo', 'system_fingerprint': None, 'finish_reason': 'tool_calls', 'logprobs': None}, id='run-b63fc2e0-6f7e-4dba-95b4-20ca86e82935-0', tool_calls=[{'name': 'tavily_search_results_json', 'args': {'query': 'weather in Los Angeles'}, 'id': 'call_t0t0V7AeijZUB2Obd2MRXavj'}], usage_metadata={'input_tokens': 152, 'output_tokens': 21, 'total_tokens': 173})]}}}, created_at='2024-06-06T20:24:38.871005+00:00', parent_config={'configurable': {'thread_id': '3', 'thread_ts': '1ef2442c-b472-6b3a-8000-2f6aa31b2219'}})"
      ]
     },
     "execution_count": 27,
     "metadata": {},
     "output_type": "execute_result"
    }
   ],
   "source": [
    "to_replay"
   ]
  },
  {
   "cell_type": "code",
   "execution_count": 28,
   "metadata": {},
   "outputs": [],
   "source": [
    "_id = to_replay.values[\"messages\"][-1].tool_calls[0][\"id\"]\n",
    "to_replay.values[\"messages\"][-1].tool_calls = [\n",
    "    {\n",
    "        \"name\": \"tavily_search_results_json\",\n",
    "        \"args\": {\"query\": \"current weather in LA, accuweather\"},\n",
    "        \"id\": _id,\n",
    "    }\n",
    "]"
   ]
  },
  {
   "cell_type": "code",
   "execution_count": 29,
   "metadata": {},
   "outputs": [
    {
     "name": "stdout",
     "output_type": "stream",
     "text": [
      "{'messages': [HumanMessage(content='Whats the weather in LA?', id='4a15be44-8c71-445e-bbdb-0c60140a09a5'), AIMessage(content='', additional_kwargs={'tool_calls': [{'id': 'call_t0t0V7AeijZUB2Obd2MRXavj', 'function': {'arguments': '{\"query\":\"weather in Los Angeles\"}', 'name': 'tavily_search_results_json'}, 'type': 'function'}]}, response_metadata={'token_usage': {'completion_tokens': 21, 'prompt_tokens': 152, 'total_tokens': 173}, 'model_name': 'gpt-3.5-turbo', 'system_fingerprint': None, 'finish_reason': 'tool_calls', 'logprobs': None}, id='run-b63fc2e0-6f7e-4dba-95b4-20ca86e82935-0', tool_calls=[{'name': 'tavily_search_results_json', 'args': {'query': 'current weather in LA, accuweather'}, 'id': 'call_t0t0V7AeijZUB2Obd2MRXavj'}], usage_metadata={'input_tokens': 152, 'output_tokens': 21, 'total_tokens': 173})]}\n"
     ]
    }
   ],
   "source": [
    "branch_state = abot.graph.update_state(to_replay.config, to_replay.values)"
   ]
  },
  {
   "cell_type": "code",
   "execution_count": 30,
   "metadata": {},
   "outputs": [
    {
     "name": "stdout",
     "output_type": "stream",
     "text": [
      "Calling: {'name': 'tavily_search_results_json', 'args': {'query': 'current weather in LA, accuweather'}, 'id': 'call_t0t0V7AeijZUB2Obd2MRXavj'}\n",
      "Back to the model!\n",
      "{'messages': [ToolMessage(content='[{\\'url\\': \\'https://www.weatherapi.com/\\', \\'content\\': \"{\\'location\\': {\\'name\\': \\'Los Angeles\\', \\'region\\': \\'California\\', \\'country\\': \\'United States of America\\', \\'lat\\': 34.05, \\'lon\\': -118.24, \\'tz_id\\': \\'America/Los_Angeles\\', \\'localtime_epoch\\': 1717705514, \\'localtime\\': \\'2024-06-06 13:25\\'}, \\'current\\': {\\'last_updated_epoch\\': 1717704900, \\'last_updated\\': \\'2024-06-06 13:15\\', \\'temp_c\\': 20.0, \\'temp_f\\': 68.0, \\'is_day\\': 1, \\'condition\\': {\\'text\\': \\'Overcast\\', \\'icon\\': \\'//cdn.weatherapi.com/weather/64x64/day/122.png\\', \\'code\\': 1009}, \\'wind_mph\\': 10.5, \\'wind_kph\\': 16.9, \\'wind_degree\\': 250, \\'wind_dir\\': \\'WSW\\', \\'pressure_mb\\': 1013.0, \\'pressure_in\\': 29.92, \\'precip_mm\\': 0.0, \\'precip_in\\': 0.0, \\'humidity\\': 73, \\'cloud\\': 100, \\'feelslike_c\\': 20.0, \\'feelslike_f\\': 68.0, \\'windchill_c\\': 25.7, \\'windchill_f\\': 78.2, \\'heatindex_c\\': 26.2, \\'heatindex_f\\': 79.2, \\'dewpoint_c\\': 13.8, \\'dewpoint_f\\': 56.9, \\'vis_km\\': 16.0, \\'vis_miles\\': 9.0, \\'uv\\': 7.0, \\'gust_mph\\': 10.6, \\'gust_kph\\': 17.0}}\"}, {\\'url\\': \\'https://www.accuweather.com/en/us/los-angeles/90012/weather-forecast/347625\\', \\'content\\': \\'Current Weather. 5:35 AM. 60° F. RealFeel® 62°. Cloudy More Details. Wind NE 1 mph. Wind Gusts 2 mph. Air Quality Poor.\\'}]', name='tavily_search_results_json', tool_call_id='call_t0t0V7AeijZUB2Obd2MRXavj')]}\n",
      "{'messages': [HumanMessage(content='Whats the weather in LA?', id='4a15be44-8c71-445e-bbdb-0c60140a09a5'), AIMessage(content='', additional_kwargs={'tool_calls': [{'id': 'call_t0t0V7AeijZUB2Obd2MRXavj', 'function': {'arguments': '{\"query\":\"weather in Los Angeles\"}', 'name': 'tavily_search_results_json'}, 'type': 'function'}]}, response_metadata={'token_usage': {'completion_tokens': 21, 'prompt_tokens': 152, 'total_tokens': 173}, 'model_name': 'gpt-3.5-turbo', 'system_fingerprint': None, 'finish_reason': 'tool_calls', 'logprobs': None}, id='run-b63fc2e0-6f7e-4dba-95b4-20ca86e82935-0', tool_calls=[{'name': 'tavily_search_results_json', 'args': {'query': 'current weather in LA, accuweather'}, 'id': 'call_t0t0V7AeijZUB2Obd2MRXavj'}], usage_metadata={'input_tokens': 152, 'output_tokens': 21, 'total_tokens': 173}), ToolMessage(content='[{\\'url\\': \\'https://www.weatherapi.com/\\', \\'content\\': \"{\\'location\\': {\\'name\\': \\'Los Angeles\\', \\'region\\': \\'California\\', \\'country\\': \\'United States of America\\', \\'lat\\': 34.05, \\'lon\\': -118.24, \\'tz_id\\': \\'America/Los_Angeles\\', \\'localtime_epoch\\': 1717705514, \\'localtime\\': \\'2024-06-06 13:25\\'}, \\'current\\': {\\'last_updated_epoch\\': 1717704900, \\'last_updated\\': \\'2024-06-06 13:15\\', \\'temp_c\\': 20.0, \\'temp_f\\': 68.0, \\'is_day\\': 1, \\'condition\\': {\\'text\\': \\'Overcast\\', \\'icon\\': \\'//cdn.weatherapi.com/weather/64x64/day/122.png\\', \\'code\\': 1009}, \\'wind_mph\\': 10.5, \\'wind_kph\\': 16.9, \\'wind_degree\\': 250, \\'wind_dir\\': \\'WSW\\', \\'pressure_mb\\': 1013.0, \\'pressure_in\\': 29.92, \\'precip_mm\\': 0.0, \\'precip_in\\': 0.0, \\'humidity\\': 73, \\'cloud\\': 100, \\'feelslike_c\\': 20.0, \\'feelslike_f\\': 68.0, \\'windchill_c\\': 25.7, \\'windchill_f\\': 78.2, \\'heatindex_c\\': 26.2, \\'heatindex_f\\': 79.2, \\'dewpoint_c\\': 13.8, \\'dewpoint_f\\': 56.9, \\'vis_km\\': 16.0, \\'vis_miles\\': 9.0, \\'uv\\': 7.0, \\'gust_mph\\': 10.6, \\'gust_kph\\': 17.0}}\"}, {\\'url\\': \\'https://www.accuweather.com/en/us/los-angeles/90012/weather-forecast/347625\\', \\'content\\': \\'Current Weather. 5:35 AM. 60° F. RealFeel® 62°. Cloudy More Details. Wind NE 1 mph. Wind Gusts 2 mph. Air Quality Poor.\\'}]', name='tavily_search_results_json', id='721b6baa-aade-40df-873a-06b37d1fa4e1', tool_call_id='call_t0t0V7AeijZUB2Obd2MRXavj'), AIMessage(content='The current weather in Los Angeles is 68°F with an overcast condition. The wind speed is 10.5 mph coming from the WSW direction. The humidity is at 73%.', response_metadata={'token_usage': {'completion_tokens': 40, 'prompt_tokens': 673, 'total_tokens': 713}, 'model_name': 'gpt-3.5-turbo', 'system_fingerprint': None, 'finish_reason': 'stop', 'logprobs': None}, id='run-b7d3e899-a82f-4f85-9219-66694cbb8320-0', usage_metadata={'input_tokens': 673, 'output_tokens': 40, 'total_tokens': 713})]}\n",
      "{'messages': [AIMessage(content='The current weather in Los Angeles is 68°F with an overcast condition. The wind speed is 10.5 mph coming from the WSW direction. The humidity is at 73%.', response_metadata={'token_usage': {'completion_tokens': 40, 'prompt_tokens': 673, 'total_tokens': 713}, 'model_name': 'gpt-3.5-turbo', 'system_fingerprint': None, 'finish_reason': 'stop', 'logprobs': None}, id='run-b7d3e899-a82f-4f85-9219-66694cbb8320-0', usage_metadata={'input_tokens': 673, 'output_tokens': 40, 'total_tokens': 713})]}\n"
     ]
    }
   ],
   "source": [
    "for event in abot.graph.stream(None, branch_state):\n",
    "    for k, v in event.items():\n",
    "        if k != \"__end__\":\n",
    "            print(v)"
   ]
  },
  {
   "cell_type": "code",
   "execution_count": 31,
   "metadata": {},
   "outputs": [
    {
     "data": {
      "text/plain": [
       "StateSnapshot(values={'messages': [HumanMessage(content='Whats the weather in LA?', id='4a15be44-8c71-445e-bbdb-0c60140a09a5'), AIMessage(content='', additional_kwargs={'tool_calls': [{'id': 'call_t0t0V7AeijZUB2Obd2MRXavj', 'function': {'arguments': '{\"query\":\"weather in Los Angeles\"}', 'name': 'tavily_search_results_json'}, 'type': 'function'}]}, response_metadata={'token_usage': {'completion_tokens': 21, 'prompt_tokens': 152, 'total_tokens': 173}, 'model_name': 'gpt-3.5-turbo', 'system_fingerprint': None, 'finish_reason': 'tool_calls', 'logprobs': None}, id='run-b63fc2e0-6f7e-4dba-95b4-20ca86e82935-0', tool_calls=[{'name': 'tavily_search_results_json', 'args': {'query': 'current weather in LA, accuweather'}, 'id': 'call_t0t0V7AeijZUB2Obd2MRXavj'}], usage_metadata={'input_tokens': 152, 'output_tokens': 21, 'total_tokens': 173})]}, next=('action',), config={'configurable': {'thread_id': '3', 'thread_ts': '1ef2442c-c792-6f7a-8001-447e7a303bf0'}}, metadata={'source': 'loop', 'step': 1, 'writes': {'llm': {'messages': [AIMessage(content='', additional_kwargs={'tool_calls': [{'id': 'call_t0t0V7AeijZUB2Obd2MRXavj', 'function': {'arguments': '{\"query\":\"weather in Los Angeles\"}', 'name': 'tavily_search_results_json'}, 'type': 'function'}]}, response_metadata={'token_usage': {'completion_tokens': 21, 'prompt_tokens': 152, 'total_tokens': 173}, 'model_name': 'gpt-3.5-turbo', 'system_fingerprint': None, 'finish_reason': 'tool_calls', 'logprobs': None}, id='run-b63fc2e0-6f7e-4dba-95b4-20ca86e82935-0', tool_calls=[{'name': 'tavily_search_results_json', 'args': {'query': 'weather in Los Angeles'}, 'id': 'call_t0t0V7AeijZUB2Obd2MRXavj'}], usage_metadata={'input_tokens': 152, 'output_tokens': 21, 'total_tokens': 173})]}}}, created_at='2024-06-06T20:24:38.871005+00:00', parent_config={'configurable': {'thread_id': '3', 'thread_ts': '1ef2442c-b472-6b3a-8000-2f6aa31b2219'}})"
      ]
     },
     "execution_count": 31,
     "metadata": {},
     "output_type": "execute_result"
    }
   ],
   "source": [
    "to_replay"
   ]
  },
  {
   "cell_type": "code",
   "execution_count": 32,
   "metadata": {},
   "outputs": [],
   "source": [
    "_id = to_replay.values[\"messages\"][-1].tool_calls[0][\"id\"]"
   ]
  },
  {
   "cell_type": "code",
   "execution_count": 33,
   "metadata": {},
   "outputs": [],
   "source": [
    "state_update = {\n",
    "    \"messages\": [\n",
    "        ToolMessage(\n",
    "            tool_call_id=_id,\n",
    "            name=\"tavily_search_results_json\",\n",
    "            content=\"54 degree celcius\",\n",
    "        )\n",
    "    ]\n",
    "}"
   ]
  },
  {
   "cell_type": "code",
   "execution_count": 34,
   "metadata": {},
   "outputs": [],
   "source": [
    "branch_and_add = abot.graph.update_state(\n",
    "    to_replay.config, state_update, as_node=\"action\"\n",
    ")"
   ]
  },
  {
   "cell_type": "code",
   "execution_count": 35,
   "metadata": {},
   "outputs": [
    {
     "name": "stdout",
     "output_type": "stream",
     "text": [
      "{'messages': [HumanMessage(content='Whats the weather in LA?', id='4a15be44-8c71-445e-bbdb-0c60140a09a5'), AIMessage(content='', additional_kwargs={'tool_calls': [{'id': 'call_t0t0V7AeijZUB2Obd2MRXavj', 'function': {'arguments': '{\"query\":\"weather in Los Angeles\"}', 'name': 'tavily_search_results_json'}, 'type': 'function'}]}, response_metadata={'token_usage': {'completion_tokens': 21, 'prompt_tokens': 152, 'total_tokens': 173}, 'model_name': 'gpt-3.5-turbo', 'system_fingerprint': None, 'finish_reason': 'tool_calls', 'logprobs': None}, id='run-b63fc2e0-6f7e-4dba-95b4-20ca86e82935-0', tool_calls=[{'name': 'tavily_search_results_json', 'args': {'query': 'weather in Los Angeles'}, 'id': 'call_t0t0V7AeijZUB2Obd2MRXavj'}], usage_metadata={'input_tokens': 152, 'output_tokens': 21, 'total_tokens': 173}), ToolMessage(content='54 degree celcius', name='tavily_search_results_json', id='d506f042-51b6-4141-aada-62fff0724cfb', tool_call_id='call_t0t0V7AeijZUB2Obd2MRXavj'), AIMessage(content='The weather in Los Angeles is currently 54 degrees Celsius.', response_metadata={'token_usage': {'completion_tokens': 13, 'prompt_tokens': 190, 'total_tokens': 203}, 'model_name': 'gpt-3.5-turbo', 'system_fingerprint': None, 'finish_reason': 'stop', 'logprobs': None}, id='run-74eb1188-2562-491f-916d-c36778fa0f4e-0', usage_metadata={'input_tokens': 190, 'output_tokens': 13, 'total_tokens': 203})]}\n",
      "{'messages': [AIMessage(content='The weather in Los Angeles is currently 54 degrees Celsius.', response_metadata={'token_usage': {'completion_tokens': 13, 'prompt_tokens': 190, 'total_tokens': 203}, 'model_name': 'gpt-3.5-turbo', 'system_fingerprint': None, 'finish_reason': 'stop', 'logprobs': None}, id='run-74eb1188-2562-491f-916d-c36778fa0f4e-0', usage_metadata={'input_tokens': 190, 'output_tokens': 13, 'total_tokens': 203})]}\n"
     ]
    }
   ],
   "source": [
    "for event in abot.graph.stream(None, branch_and_add):\n",
    "    for k, v in event.items():\n",
    "        print(v)"
   ]
  },
  {
   "cell_type": "code",
   "execution_count": 36,
   "metadata": {},
   "outputs": [],
   "source": [
    "from dotenv import load_dotenv\n",
    "\n",
    "_ = load_dotenv()"
   ]
  },
  {
   "cell_type": "code",
   "execution_count": 37,
   "metadata": {},
   "outputs": [],
   "source": [
    "from langgraph.graph import StateGraph, END\n",
    "from typing import TypedDict, Annotated\n",
    "import operator\n",
    "from langgraph.checkpoint.sqlite import SqliteSaver"
   ]
  },
  {
   "cell_type": "code",
   "execution_count": 38,
   "metadata": {},
   "outputs": [],
   "source": [
    "class AgentState(TypedDict):\n",
    "    lnode: str\n",
    "    scratch: str\n",
    "    count: Annotated[int, operator.add]"
   ]
  },
  {
   "cell_type": "code",
   "execution_count": 39,
   "metadata": {},
   "outputs": [],
   "source": [
    "def node1(state: AgentState):\n",
    "    print(f\"node1, count:{state['count']}\")\n",
    "    return {\n",
    "        \"lnode\": \"node_1\",\n",
    "        \"count\": 1,\n",
    "    }\n",
    "\n",
    "\n",
    "def node2(state: AgentState):\n",
    "    print(f\"node2, count:{state['count']}\")\n",
    "    return {\n",
    "        \"lnode\": \"node_2\",\n",
    "        \"count\": 1,\n",
    "    }"
   ]
  },
  {
   "cell_type": "code",
   "execution_count": 40,
   "metadata": {},
   "outputs": [],
   "source": [
    "def should_continue(state):\n",
    "    return state[\"count\"] < 3"
   ]
  },
  {
   "cell_type": "code",
   "execution_count": 41,
   "metadata": {},
   "outputs": [],
   "source": [
    "builder = StateGraph(AgentState)\n",
    "builder.add_node(\"Node1\", node1)\n",
    "builder.add_node(\"Node2\", node2)\n",
    "\n",
    "builder.add_edge(\"Node1\", \"Node2\")\n",
    "builder.add_conditional_edges(\"Node2\", should_continue, {True: \"Node1\", False: END})\n",
    "builder.set_entry_point(\"Node1\")"
   ]
  },
  {
   "cell_type": "code",
   "execution_count": 42,
   "metadata": {},
   "outputs": [],
   "source": [
    "memory = SqliteSaver.from_conn_string(\":memory:\")\n",
    "graph = builder.compile(checkpointer=memory)"
   ]
  },
  {
   "cell_type": "code",
   "execution_count": 43,
   "metadata": {},
   "outputs": [
    {
     "name": "stdout",
     "output_type": "stream",
     "text": [
      "node1, count:0\n",
      "node2, count:1\n",
      "node1, count:2\n",
      "node2, count:3\n"
     ]
    },
    {
     "data": {
      "text/plain": [
       "{'lnode': 'node_2', 'scratch': 'hi', 'count': 4}"
      ]
     },
     "execution_count": 43,
     "metadata": {},
     "output_type": "execute_result"
    }
   ],
   "source": [
    "thread = {\"configurable\": {\"thread_id\": str(1)}}\n",
    "graph.invoke({\"count\": 0, \"scratch\": \"hi\"}, thread)"
   ]
  },
  {
   "cell_type": "code",
   "execution_count": 44,
   "metadata": {},
   "outputs": [
    {
     "data": {
      "text/plain": [
       "StateSnapshot(values={'lnode': 'node_2', 'scratch': 'hi', 'count': 4}, next=(), config={'configurable': {'thread_id': '1', 'thread_ts': '1ef24438-f719-68bd-8004-fa67dfd2c164'}}, metadata={'source': 'loop', 'step': 4, 'writes': {'Node2': {'lnode': 'node_2', 'count': 1}}}, created_at='2024-06-06T20:30:05.976982+00:00', parent_config={'configurable': {'thread_id': '1', 'thread_ts': '1ef24438-f713-662f-8003-a5fa0a9da356'}})"
      ]
     },
     "execution_count": 44,
     "metadata": {},
     "output_type": "execute_result"
    }
   ],
   "source": [
    "graph.get_state(thread)"
   ]
  },
  {
   "cell_type": "code",
   "execution_count": 45,
   "metadata": {},
   "outputs": [
    {
     "name": "stdout",
     "output_type": "stream",
     "text": [
      "StateSnapshot(values={'lnode': 'node_2', 'scratch': 'hi', 'count': 4}, next=(), config={'configurable': {'thread_id': '1', 'thread_ts': '1ef24438-f719-68bd-8004-fa67dfd2c164'}}, metadata={'source': 'loop', 'step': 4, 'writes': {'Node2': {'lnode': 'node_2', 'count': 1}}}, created_at='2024-06-06T20:30:05.976982+00:00', parent_config={'configurable': {'thread_id': '1', 'thread_ts': '1ef24438-f713-662f-8003-a5fa0a9da356'}}) \n",
      "\n",
      "StateSnapshot(values={'lnode': 'node_1', 'scratch': 'hi', 'count': 3}, next=('Node2',), config={'configurable': {'thread_id': '1', 'thread_ts': '1ef24438-f713-662f-8003-a5fa0a9da356'}}, metadata={'source': 'loop', 'step': 3, 'writes': {'Node1': {'lnode': 'node_1', 'count': 1}}}, created_at='2024-06-06T20:30:05.974460+00:00', parent_config={'configurable': {'thread_id': '1', 'thread_ts': '1ef24438-f70d-6b8c-8002-496e35b5695c'}}) \n",
      "\n",
      "StateSnapshot(values={'lnode': 'node_2', 'scratch': 'hi', 'count': 2}, next=('Node1',), config={'configurable': {'thread_id': '1', 'thread_ts': '1ef24438-f70d-6b8c-8002-496e35b5695c'}}, metadata={'source': 'loop', 'step': 2, 'writes': {'Node2': {'lnode': 'node_2', 'count': 1}}}, created_at='2024-06-06T20:30:05.972130+00:00', parent_config={'configurable': {'thread_id': '1', 'thread_ts': '1ef24438-f703-667e-8001-a95851301515'}}) \n",
      "\n",
      "StateSnapshot(values={'lnode': 'node_1', 'scratch': 'hi', 'count': 1}, next=('Node2',), config={'configurable': {'thread_id': '1', 'thread_ts': '1ef24438-f703-667e-8001-a95851301515'}}, metadata={'source': 'loop', 'step': 1, 'writes': {'Node1': {'lnode': 'node_1', 'count': 1}}}, created_at='2024-06-06T20:30:05.967912+00:00', parent_config={'configurable': {'thread_id': '1', 'thread_ts': '1ef24438-f6fa-63ff-8000-1bf0cb7fd732'}}) \n",
      "\n",
      "StateSnapshot(values={'scratch': 'hi', 'count': 0}, next=('Node1',), config={'configurable': {'thread_id': '1', 'thread_ts': '1ef24438-f6fa-63ff-8000-1bf0cb7fd732'}}, metadata={'source': 'loop', 'step': 0, 'writes': None}, created_at='2024-06-06T20:30:05.964163+00:00', parent_config={'configurable': {'thread_id': '1', 'thread_ts': '1ef24438-f6f6-6160-bfff-14f6fcc23805'}}) \n",
      "\n",
      "StateSnapshot(values={'count': 0}, next=('__start__',), config={'configurable': {'thread_id': '1', 'thread_ts': '1ef24438-f6f6-6160-bfff-14f6fcc23805'}}, metadata={'source': 'input', 'step': -1, 'writes': {'count': 0, 'scratch': 'hi'}}, created_at='2024-06-06T20:30:05.962465+00:00', parent_config=None) \n",
      "\n"
     ]
    }
   ],
   "source": [
    "for state in graph.get_state_history(thread):\n",
    "    print(state, \"\\n\")"
   ]
  },
  {
   "cell_type": "code",
   "execution_count": 46,
   "metadata": {},
   "outputs": [
    {
     "name": "stdout",
     "output_type": "stream",
     "text": [
      "{'configurable': {'thread_id': '1', 'thread_ts': '1ef24438-f719-68bd-8004-fa67dfd2c164'}} 4\n",
      "{'configurable': {'thread_id': '1', 'thread_ts': '1ef24438-f713-662f-8003-a5fa0a9da356'}} 3\n",
      "{'configurable': {'thread_id': '1', 'thread_ts': '1ef24438-f70d-6b8c-8002-496e35b5695c'}} 2\n",
      "{'configurable': {'thread_id': '1', 'thread_ts': '1ef24438-f703-667e-8001-a95851301515'}} 1\n",
      "{'configurable': {'thread_id': '1', 'thread_ts': '1ef24438-f6fa-63ff-8000-1bf0cb7fd732'}} 0\n",
      "{'configurable': {'thread_id': '1', 'thread_ts': '1ef24438-f6f6-6160-bfff-14f6fcc23805'}} 0\n"
     ]
    }
   ],
   "source": [
    "states = []\n",
    "for state in graph.get_state_history(thread):\n",
    "    states.append(state.config)\n",
    "    print(state.config, state.values[\"count\"])"
   ]
  },
  {
   "cell_type": "code",
   "execution_count": 47,
   "metadata": {},
   "outputs": [
    {
     "data": {
      "text/plain": [
       "{'configurable': {'thread_id': '1',\n",
       "  'thread_ts': '1ef24438-f703-667e-8001-a95851301515'}}"
      ]
     },
     "execution_count": 47,
     "metadata": {},
     "output_type": "execute_result"
    }
   ],
   "source": [
    "states[-3]"
   ]
  },
  {
   "cell_type": "code",
   "execution_count": 48,
   "metadata": {},
   "outputs": [
    {
     "data": {
      "text/plain": [
       "StateSnapshot(values={'lnode': 'node_1', 'scratch': 'hi', 'count': 1}, next=('Node2',), config={'configurable': {'thread_id': '1', 'thread_ts': '1ef24438-f703-667e-8001-a95851301515'}}, metadata={'source': 'loop', 'step': 1, 'writes': {'Node1': {'lnode': 'node_1', 'count': 1}}}, created_at='2024-06-06T20:30:05.967912+00:00', parent_config={'configurable': {'thread_id': '1', 'thread_ts': '1ef24438-f6fa-63ff-8000-1bf0cb7fd732'}})"
      ]
     },
     "execution_count": 48,
     "metadata": {},
     "output_type": "execute_result"
    }
   ],
   "source": [
    "graph.get_state(states[-3])"
   ]
  },
  {
   "cell_type": "code",
   "execution_count": 49,
   "metadata": {},
   "outputs": [
    {
     "name": "stdout",
     "output_type": "stream",
     "text": [
      "node2, count:1\n",
      "node1, count:2\n",
      "node2, count:3\n"
     ]
    },
    {
     "data": {
      "text/plain": [
       "{'lnode': 'node_2', 'scratch': 'hi', 'count': 4}"
      ]
     },
     "execution_count": 49,
     "metadata": {},
     "output_type": "execute_result"
    }
   ],
   "source": [
    "graph.invoke(None, states[-3])"
   ]
  },
  {
   "cell_type": "code",
   "execution_count": 50,
   "metadata": {},
   "outputs": [
    {
     "name": "stdout",
     "output_type": "stream",
     "text": [
      "{'configurable': {'thread_id': '1', 'thread_ts': '1ef2443a-4a5b-6940-8004-14df2015aa63'}} 4\n",
      "{'configurable': {'thread_id': '1', 'thread_ts': '1ef2443a-4a53-61dc-8003-205debe9bd99'}} 3\n",
      "{'configurable': {'thread_id': '1', 'thread_ts': '1ef2443a-4a4b-6fbe-8002-82dcf0f5d1ab'}} 2\n",
      "{'configurable': {'thread_id': '1', 'thread_ts': '1ef24438-f719-68bd-8004-fa67dfd2c164'}} 4\n",
      "{'configurable': {'thread_id': '1', 'thread_ts': '1ef24438-f713-662f-8003-a5fa0a9da356'}} 3\n",
      "{'configurable': {'thread_id': '1', 'thread_ts': '1ef24438-f70d-6b8c-8002-496e35b5695c'}} 2\n",
      "{'configurable': {'thread_id': '1', 'thread_ts': '1ef24438-f703-667e-8001-a95851301515'}} 1\n",
      "{'configurable': {'thread_id': '1', 'thread_ts': '1ef24438-f6fa-63ff-8000-1bf0cb7fd732'}} 0\n",
      "{'configurable': {'thread_id': '1', 'thread_ts': '1ef24438-f6f6-6160-bfff-14f6fcc23805'}} 0\n"
     ]
    }
   ],
   "source": [
    "thread = {\"configurable\": {\"thread_id\": str(1)}}\n",
    "for state in graph.get_state_history(thread):\n",
    "    print(state.config, state.values[\"count\"])"
   ]
  },
  {
   "cell_type": "code",
   "execution_count": 51,
   "metadata": {},
   "outputs": [
    {
     "name": "stdout",
     "output_type": "stream",
     "text": [
      "StateSnapshot(values={'lnode': 'node_2', 'scratch': 'hi', 'count': 4}, next=(), config={'configurable': {'thread_id': '1', 'thread_ts': '1ef2443a-4a5b-6940-8004-14df2015aa63'}}, metadata={'source': 'loop', 'step': 4, 'writes': {'Node2': {'lnode': 'node_2', 'count': 1}}}, created_at='2024-06-06T20:30:41.550749+00:00', parent_config={'configurable': {'thread_id': '1', 'thread_ts': '1ef2443a-4a53-61dc-8003-205debe9bd99'}}) \n",
      "\n",
      "StateSnapshot(values={'lnode': 'node_1', 'scratch': 'hi', 'count': 3}, next=('Node2',), config={'configurable': {'thread_id': '1', 'thread_ts': '1ef2443a-4a53-61dc-8003-205debe9bd99'}}, metadata={'source': 'loop', 'step': 3, 'writes': {'Node1': {'lnode': 'node_1', 'count': 1}}}, created_at='2024-06-06T20:30:41.547283+00:00', parent_config={'configurable': {'thread_id': '1', 'thread_ts': '1ef2443a-4a4b-6fbe-8002-82dcf0f5d1ab'}}) \n",
      "\n",
      "StateSnapshot(values={'lnode': 'node_2', 'scratch': 'hi', 'count': 2}, next=('Node1',), config={'configurable': {'thread_id': '1', 'thread_ts': '1ef2443a-4a4b-6fbe-8002-82dcf0f5d1ab'}}, metadata={'source': 'loop', 'step': 2, 'writes': {'Node2': {'lnode': 'node_2', 'count': 1}}}, created_at='2024-06-06T20:30:41.544360+00:00', parent_config={'configurable': {'thread_id': '1', 'thread_ts': '1ef24438-f703-667e-8001-a95851301515'}}) \n",
      "\n",
      "StateSnapshot(values={'lnode': 'node_2', 'scratch': 'hi', 'count': 4}, next=(), config={'configurable': {'thread_id': '1', 'thread_ts': '1ef24438-f719-68bd-8004-fa67dfd2c164'}}, metadata={'source': 'loop', 'step': 4, 'writes': {'Node2': {'lnode': 'node_2', 'count': 1}}}, created_at='2024-06-06T20:30:05.976982+00:00', parent_config={'configurable': {'thread_id': '1', 'thread_ts': '1ef24438-f713-662f-8003-a5fa0a9da356'}}) \n",
      "\n",
      "StateSnapshot(values={'lnode': 'node_1', 'scratch': 'hi', 'count': 3}, next=('Node2',), config={'configurable': {'thread_id': '1', 'thread_ts': '1ef24438-f713-662f-8003-a5fa0a9da356'}}, metadata={'source': 'loop', 'step': 3, 'writes': {'Node1': {'lnode': 'node_1', 'count': 1}}}, created_at='2024-06-06T20:30:05.974460+00:00', parent_config={'configurable': {'thread_id': '1', 'thread_ts': '1ef24438-f70d-6b8c-8002-496e35b5695c'}}) \n",
      "\n",
      "StateSnapshot(values={'lnode': 'node_2', 'scratch': 'hi', 'count': 2}, next=('Node1',), config={'configurable': {'thread_id': '1', 'thread_ts': '1ef24438-f70d-6b8c-8002-496e35b5695c'}}, metadata={'source': 'loop', 'step': 2, 'writes': {'Node2': {'lnode': 'node_2', 'count': 1}}}, created_at='2024-06-06T20:30:05.972130+00:00', parent_config={'configurable': {'thread_id': '1', 'thread_ts': '1ef24438-f703-667e-8001-a95851301515'}}) \n",
      "\n",
      "StateSnapshot(values={'lnode': 'node_1', 'scratch': 'hi', 'count': 1}, next=('Node2',), config={'configurable': {'thread_id': '1', 'thread_ts': '1ef24438-f703-667e-8001-a95851301515'}}, metadata={'source': 'loop', 'step': 1, 'writes': {'Node1': {'lnode': 'node_1', 'count': 1}}}, created_at='2024-06-06T20:30:05.967912+00:00', parent_config={'configurable': {'thread_id': '1', 'thread_ts': '1ef24438-f6fa-63ff-8000-1bf0cb7fd732'}}) \n",
      "\n",
      "StateSnapshot(values={'scratch': 'hi', 'count': 0}, next=('Node1',), config={'configurable': {'thread_id': '1', 'thread_ts': '1ef24438-f6fa-63ff-8000-1bf0cb7fd732'}}, metadata={'source': 'loop', 'step': 0, 'writes': None}, created_at='2024-06-06T20:30:05.964163+00:00', parent_config={'configurable': {'thread_id': '1', 'thread_ts': '1ef24438-f6f6-6160-bfff-14f6fcc23805'}}) \n",
      "\n",
      "StateSnapshot(values={'count': 0}, next=('__start__',), config={'configurable': {'thread_id': '1', 'thread_ts': '1ef24438-f6f6-6160-bfff-14f6fcc23805'}}, metadata={'source': 'input', 'step': -1, 'writes': {'count': 0, 'scratch': 'hi'}}, created_at='2024-06-06T20:30:05.962465+00:00', parent_config=None) \n",
      "\n"
     ]
    }
   ],
   "source": [
    "thread = {\"configurable\": {\"thread_id\": str(1)}}\n",
    "for state in graph.get_state_history(thread):\n",
    "    print(state, \"\\n\")"
   ]
  },
  {
   "cell_type": "code",
   "execution_count": 52,
   "metadata": {},
   "outputs": [
    {
     "name": "stdout",
     "output_type": "stream",
     "text": [
      "node1, count:0\n",
      "node2, count:1\n",
      "node1, count:2\n",
      "node2, count:3\n"
     ]
    },
    {
     "data": {
      "text/plain": [
       "{'lnode': 'node_2', 'scratch': 'hi', 'count': 4}"
      ]
     },
     "execution_count": 52,
     "metadata": {},
     "output_type": "execute_result"
    }
   ],
   "source": [
    "thread2 = {\"configurable\": {\"thread_id\": str(2)}}\n",
    "graph.invoke({\"count\": 0, \"scratch\": \"hi\"}, thread2)"
   ]
  },
  {
   "cell_type": "code",
   "execution_count": 53,
   "metadata": {},
   "outputs": [
    {
     "name": "stdout",
     "output_type": "stream",
     "text": [
      "{'configurable': {'thread_id': '2', 'thread_ts': '1ef2443a-f610-62bf-8004-cc575b2e303e'}} 4\n",
      "{'configurable': {'thread_id': '2', 'thread_ts': '1ef2443a-f609-601f-8003-b2c464144eef'}} 3\n",
      "{'configurable': {'thread_id': '2', 'thread_ts': '1ef2443a-f5ff-6ec7-8002-7118292b8313'}} 2\n",
      "{'configurable': {'thread_id': '2', 'thread_ts': '1ef2443a-f5f9-6a8c-8001-96db83fe9341'}} 1\n",
      "{'configurable': {'thread_id': '2', 'thread_ts': '1ef2443a-f5f0-6b97-8000-83f815953562'}} 0\n",
      "{'configurable': {'thread_id': '2', 'thread_ts': '1ef2443a-f5ea-6aa1-bfff-c163777e1075'}} 0\n"
     ]
    }
   ],
   "source": [
    "states2 = []\n",
    "for state in graph.get_state_history(thread2):\n",
    "    states2.append(state.config)\n",
    "    print(state.config, state.values[\"count\"])"
   ]
  },
  {
   "cell_type": "code",
   "execution_count": 54,
   "metadata": {},
   "outputs": [
    {
     "data": {
      "text/plain": [
       "StateSnapshot(values={'lnode': 'node_1', 'scratch': 'hi', 'count': 1}, next=('Node2',), config={'configurable': {'thread_id': '2', 'thread_ts': '1ef2443a-f5f9-6a8c-8001-96db83fe9341'}}, metadata={'source': 'loop', 'step': 1, 'writes': {'Node1': {'lnode': 'node_1', 'count': 1}}}, created_at='2024-06-06T20:30:59.546153+00:00', parent_config={'configurable': {'thread_id': '2', 'thread_ts': '1ef2443a-f5f0-6b97-8000-83f815953562'}})"
      ]
     },
     "execution_count": 54,
     "metadata": {},
     "output_type": "execute_result"
    }
   ],
   "source": [
    "save_state = graph.get_state(states2[-3])\n",
    "save_state"
   ]
  },
  {
   "cell_type": "code",
   "execution_count": 55,
   "metadata": {},
   "outputs": [
    {
     "data": {
      "text/plain": [
       "{'configurable': {'thread_id': '2',\n",
       "  'thread_ts': '1ef2443b-8a87-6064-8005-7018b9292649'}}"
      ]
     },
     "execution_count": 55,
     "metadata": {},
     "output_type": "execute_result"
    }
   ],
   "source": [
    "graph.update_state(thread2, save_state.values)"
   ]
  },
  {
   "cell_type": "code",
   "execution_count": 56,
   "metadata": {},
   "outputs": [
    {
     "name": "stdout",
     "output_type": "stream",
     "text": [
      "StateSnapshot(values={'lnode': 'node_1', 'scratch': 'hi', 'count': 5}, next=(), config={'configurable': {'thread_id': '2', 'thread_ts': '1ef2443b-8a87-6064-8005-7018b9292649'}}, metadata={'source': 'update', 'step': 5, 'writes': {'Node2': {'lnode': 'node_1', 'scratch': 'hi', 'count': 1}}}, created_at='2024-06-06T20:31:15.122989+00:00', parent_config={'configurable': {'thread_id': '2', 'thread_ts': '1ef2443a-f610-62bf-8004-cc575b2e303e'}}) \n",
      "\n",
      "StateSnapshot(values={'lnode': 'node_2', 'scratch': 'hi', 'count': 4}, next=(), config={'configurable': {'thread_id': '2', 'thread_ts': '1ef2443a-f610-62bf-8004-cc575b2e303e'}}, metadata={'source': 'loop', 'step': 4, 'writes': {'Node2': {'lnode': 'node_2', 'count': 1}}}, created_at='2024-06-06T20:30:59.555375+00:00', parent_config={'configurable': {'thread_id': '2', 'thread_ts': '1ef2443a-f609-601f-8003-b2c464144eef'}}) \n",
      "\n",
      "StateSnapshot(values={'lnode': 'node_1', 'scratch': 'hi', 'count': 3}, next=('Node2',), config={'configurable': {'thread_id': '2', 'thread_ts': '1ef2443a-f609-601f-8003-b2c464144eef'}}, metadata={'source': 'loop', 'step': 3, 'writes': {'Node1': {'lnode': 'node_1', 'count': 1}}}, created_at='2024-06-06T20:30:59.552399+00:00', parent_config={'configurable': {'thread_id': '2', 'thread_ts': '1ef2443a-f5ff-6ec7-8002-7118292b8313'}}) \n",
      "\n"
     ]
    }
   ],
   "source": [
    "for i, state in enumerate(graph.get_state_history(thread2)):\n",
    "    if i >= 3:  # print latest 3\n",
    "        break\n",
    "    print(state, \"\\n\")"
   ]
  },
  {
   "cell_type": "code",
   "execution_count": 57,
   "metadata": {},
   "outputs": [
    {
     "data": {
      "text/plain": [
       "{'configurable': {'thread_id': '2',\n",
       "  'thread_ts': '1ef2443b-e223-6027-8006-ce2ffcf39fd8'}}"
      ]
     },
     "execution_count": 57,
     "metadata": {},
     "output_type": "execute_result"
    }
   ],
   "source": [
    "graph.update_state(thread2, save_state.values, as_node=\"Node1\")"
   ]
  },
  {
   "cell_type": "code",
   "execution_count": 58,
   "metadata": {},
   "outputs": [
    {
     "name": "stdout",
     "output_type": "stream",
     "text": [
      "StateSnapshot(values={'lnode': 'node_1', 'scratch': 'hi', 'count': 6}, next=('Node2',), config={'configurable': {'thread_id': '2', 'thread_ts': '1ef2443b-e223-6027-8006-ce2ffcf39fd8'}}, metadata={'source': 'update', 'step': 6, 'writes': {'Node1': {'lnode': 'node_1', 'scratch': 'hi', 'count': 1}}}, created_at='2024-06-06T20:31:24.309480+00:00', parent_config={'configurable': {'thread_id': '2', 'thread_ts': '1ef2443b-8a87-6064-8005-7018b9292649'}}) \n",
      "\n",
      "StateSnapshot(values={'lnode': 'node_1', 'scratch': 'hi', 'count': 5}, next=(), config={'configurable': {'thread_id': '2', 'thread_ts': '1ef2443b-8a87-6064-8005-7018b9292649'}}, metadata={'source': 'update', 'step': 5, 'writes': {'Node2': {'lnode': 'node_1', 'scratch': 'hi', 'count': 1}}}, created_at='2024-06-06T20:31:15.122989+00:00', parent_config={'configurable': {'thread_id': '2', 'thread_ts': '1ef2443a-f610-62bf-8004-cc575b2e303e'}}) \n",
      "\n",
      "StateSnapshot(values={'lnode': 'node_2', 'scratch': 'hi', 'count': 4}, next=(), config={'configurable': {'thread_id': '2', 'thread_ts': '1ef2443a-f610-62bf-8004-cc575b2e303e'}}, metadata={'source': 'loop', 'step': 4, 'writes': {'Node2': {'lnode': 'node_2', 'count': 1}}}, created_at='2024-06-06T20:30:59.555375+00:00', parent_config={'configurable': {'thread_id': '2', 'thread_ts': '1ef2443a-f609-601f-8003-b2c464144eef'}}) \n",
      "\n"
     ]
    }
   ],
   "source": [
    "for i, state in enumerate(graph.get_state_history(thread2)):\n",
    "    if i >= 3:  # print latest 3\n",
    "        break\n",
    "    print(state, \"\\n\")"
   ]
  },
  {
   "cell_type": "code",
   "execution_count": 59,
   "metadata": {},
   "outputs": [
    {
     "name": "stdout",
     "output_type": "stream",
     "text": [
      "node2, count:6\n"
     ]
    },
    {
     "data": {
      "text/plain": [
       "{'lnode': 'node_2', 'scratch': 'hi', 'count': 7}"
      ]
     },
     "execution_count": 59,
     "metadata": {},
     "output_type": "execute_result"
    }
   ],
   "source": [
    "graph.invoke(None, thread2)"
   ]
  },
  {
   "cell_type": "code",
   "execution_count": 60,
   "metadata": {},
   "outputs": [
    {
     "name": "stdout",
     "output_type": "stream",
     "text": [
      "StateSnapshot(values={'lnode': 'node_2', 'scratch': 'hi', 'count': 7}, next=(), config={'configurable': {'thread_id': '2', 'thread_ts': '1ef2443c-3605-6084-8007-a330d74efa37'}}, metadata={'source': 'loop', 'step': 7, 'writes': {'Node2': {'lnode': 'node_2', 'count': 1}}}, created_at='2024-06-06T20:31:33.105225+00:00', parent_config={'configurable': {'thread_id': '2', 'thread_ts': '1ef2443b-e223-6027-8006-ce2ffcf39fd8'}}) \n",
      "\n",
      "StateSnapshot(values={'lnode': 'node_1', 'scratch': 'hi', 'count': 6}, next=('Node2',), config={'configurable': {'thread_id': '2', 'thread_ts': '1ef2443b-e223-6027-8006-ce2ffcf39fd8'}}, metadata={'source': 'update', 'step': 6, 'writes': {'Node1': {'lnode': 'node_1', 'scratch': 'hi', 'count': 1}}}, created_at='2024-06-06T20:31:24.309480+00:00', parent_config={'configurable': {'thread_id': '2', 'thread_ts': '1ef2443b-8a87-6064-8005-7018b9292649'}}) \n",
      "\n",
      "StateSnapshot(values={'lnode': 'node_1', 'scratch': 'hi', 'count': 5}, next=(), config={'configurable': {'thread_id': '2', 'thread_ts': '1ef2443b-8a87-6064-8005-7018b9292649'}}, metadata={'source': 'update', 'step': 5, 'writes': {'Node2': {'lnode': 'node_1', 'scratch': 'hi', 'count': 1}}}, created_at='2024-06-06T20:31:15.122989+00:00', parent_config={'configurable': {'thread_id': '2', 'thread_ts': '1ef2443a-f610-62bf-8004-cc575b2e303e'}}) \n",
      "\n",
      "StateSnapshot(values={'lnode': 'node_2', 'scratch': 'hi', 'count': 4}, next=(), config={'configurable': {'thread_id': '2', 'thread_ts': '1ef2443a-f610-62bf-8004-cc575b2e303e'}}, metadata={'source': 'loop', 'step': 4, 'writes': {'Node2': {'lnode': 'node_2', 'count': 1}}}, created_at='2024-06-06T20:30:59.555375+00:00', parent_config={'configurable': {'thread_id': '2', 'thread_ts': '1ef2443a-f609-601f-8003-b2c464144eef'}}) \n",
      "\n",
      "StateSnapshot(values={'lnode': 'node_1', 'scratch': 'hi', 'count': 3}, next=('Node2',), config={'configurable': {'thread_id': '2', 'thread_ts': '1ef2443a-f609-601f-8003-b2c464144eef'}}, metadata={'source': 'loop', 'step': 3, 'writes': {'Node1': {'lnode': 'node_1', 'count': 1}}}, created_at='2024-06-06T20:30:59.552399+00:00', parent_config={'configurable': {'thread_id': '2', 'thread_ts': '1ef2443a-f5ff-6ec7-8002-7118292b8313'}}) \n",
      "\n",
      "StateSnapshot(values={'lnode': 'node_2', 'scratch': 'hi', 'count': 2}, next=('Node1',), config={'configurable': {'thread_id': '2', 'thread_ts': '1ef2443a-f5ff-6ec7-8002-7118292b8313'}}, metadata={'source': 'loop', 'step': 2, 'writes': {'Node2': {'lnode': 'node_2', 'count': 1}}}, created_at='2024-06-06T20:30:59.548721+00:00', parent_config={'configurable': {'thread_id': '2', 'thread_ts': '1ef2443a-f5f9-6a8c-8001-96db83fe9341'}}) \n",
      "\n",
      "StateSnapshot(values={'lnode': 'node_1', 'scratch': 'hi', 'count': 1}, next=('Node2',), config={'configurable': {'thread_id': '2', 'thread_ts': '1ef2443a-f5f9-6a8c-8001-96db83fe9341'}}, metadata={'source': 'loop', 'step': 1, 'writes': {'Node1': {'lnode': 'node_1', 'count': 1}}}, created_at='2024-06-06T20:30:59.546153+00:00', parent_config={'configurable': {'thread_id': '2', 'thread_ts': '1ef2443a-f5f0-6b97-8000-83f815953562'}}) \n",
      "\n",
      "StateSnapshot(values={'scratch': 'hi', 'count': 0}, next=('Node1',), config={'configurable': {'thread_id': '2', 'thread_ts': '1ef2443a-f5f0-6b97-8000-83f815953562'}}, metadata={'source': 'loop', 'step': 0, 'writes': None}, created_at='2024-06-06T20:30:59.542481+00:00', parent_config={'configurable': {'thread_id': '2', 'thread_ts': '1ef2443a-f5ea-6aa1-bfff-c163777e1075'}}) \n",
      "\n",
      "StateSnapshot(values={'count': 0}, next=('__start__',), config={'configurable': {'thread_id': '2', 'thread_ts': '1ef2443a-f5ea-6aa1-bfff-c163777e1075'}}, metadata={'source': 'input', 'step': -1, 'writes': {'count': 0, 'scratch': 'hi'}}, created_at='2024-06-06T20:30:59.540021+00:00', parent_config=None) \n",
      "\n"
     ]
    }
   ],
   "source": [
    "for state in graph.get_state_history(thread2):\n",
    "    print(state, \"\\n\")"
   ]
  }
 ],
 "metadata": {
  "kernelspec": {
   "display_name": ".venv",
   "language": "python",
   "name": "python3"
  },
  "language_info": {
   "codemirror_mode": {
    "name": "ipython",
    "version": 3
   },
   "file_extension": ".py",
   "mimetype": "text/x-python",
   "name": "python",
   "nbconvert_exporter": "python",
   "pygments_lexer": "ipython3",
   "version": "3.11.9"
  }
 },
 "nbformat": 4,
 "nbformat_minor": 2
}
